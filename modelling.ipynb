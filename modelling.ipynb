{
 "cells": [
  {
   "cell_type": "code",
   "execution_count": null,
   "id": "6Mt9jtfnswsv",
   "metadata": {
    "colab": {
     "base_uri": "https://localhost:8080/"
    },
    "id": "6Mt9jtfnswsv",
    "outputId": "3a830099-1dbf-4f2b-966b-499853cb0a82"
   },
   "outputs": [
    {
     "name": "stdout",
     "output_type": "stream",
     "text": [
      "Mounted at /content/drive\n"
     ]
    }
   ],
   "source": [
    "from google.colab import drive\n",
    "drive.mount('/content/drive')"
   ]
  },
  {
   "cell_type": "code",
   "execution_count": null,
   "id": "5f51dc15",
   "metadata": {
    "id": "5f51dc15"
   },
   "outputs": [],
   "source": [
    "# importing necessary libraries\n",
    "import time\n",
    "import pandas as pd\n",
    "import numpy as np\n",
    "import matplotlib.pyplot as plt\n",
    "import seaborn as sns\n",
    "from sklearn.tree import DecisionTreeClassifier\n",
    "from sklearn.metrics import classification_report\n",
    "from sklearn.metrics import confusion_matrix\n",
    "from sklearn.metrics import accuracy_score\n",
    "from sklearn.preprocessing import StandardScaler\n",
    "from sklearn.model_selection import train_test_split, RandomizedSearchCV, GridSearchCV\n",
    "\n",
    "sns.set()\n",
    "%matplotlib inline"
   ]
  },
  {
   "cell_type": "code",
   "execution_count": null,
   "id": "c2f093dd",
   "metadata": {
    "colab": {
     "base_uri": "https://localhost:8080/"
    },
    "id": "c2f093dd",
    "outputId": "48266b06-0070-40d2-b4b9-e05e4dc262e5",
    "scrolled": true
   },
   "outputs": [
    {
     "data": {
      "text/plain": [
       "2    280193\n",
       "1    210004\n",
       "3     35546\n",
       "7     19685\n",
       "6     17345\n",
       "5      9453\n",
       "4      2741\n",
       "Name: Forest_cover_type, dtype: int64"
      ]
     },
     "execution_count": 3,
     "metadata": {},
     "output_type": "execute_result"
    }
   ],
   "source": [
    "df = pd.read_csv(\"/content/drive/MyDrive/forest_cov_clean.csv\")\n",
    "df['Forest_cover_type'].value_counts()"
   ]
  },
  {
   "cell_type": "code",
   "execution_count": null,
   "id": "a5a759a1",
   "metadata": {
    "colab": {
     "base_uri": "https://localhost:8080/"
    },
    "id": "a5a759a1",
    "outputId": "b4b8bc9f-08cb-41d8-e999-51ea515a27fc"
   },
   "outputs": [
    {
     "data": {
      "text/plain": [
       "Index(['Elevation', 'Aspect', 'Slope', 'Horizontal_Distance_To_Hydrology',\n",
       "       'Vertical_Distance_To_Hydrology', 'Horizontal_Distance_To_Roadways',\n",
       "       'Hillshade_Noon', 'Hillshade_3pm', 'Horizontal_Distance_To_Fire_Points',\n",
       "       'Wilderness_area_1', 'Wilderness_area_2', 'Wilderness_area_3',\n",
       "       'Wilderness_area_4', 'Soil_type', 'Forest_cover_type',\n",
       "       'Euclidian_Distance_To_Hydrology', 'Euclidean_Distance_To_Hydrology',\n",
       "       'sqrt_slope', 'sqrt_Horizontal_Distance_To_Roadways',\n",
       "       'cbrt_Horizontal_Distance_To_Fire_Points', 'square_Elevation',\n",
       "       'Euclidean_Distance_to_Roadways'],\n",
       "      dtype='object')"
      ]
     },
     "execution_count": 4,
     "metadata": {},
     "output_type": "execute_result"
    }
   ],
   "source": [
    "df.columns"
   ]
  },
  {
   "cell_type": "code",
   "execution_count": null,
   "id": "89fc5c26",
   "metadata": {
    "colab": {
     "base_uri": "https://localhost:8080/"
    },
    "id": "89fc5c26",
    "outputId": "28c4bc92-28f7-403c-ed16-5e7a5647eac0"
   },
   "outputs": [
    {
     "name": "stdout",
     "output_type": "stream",
     "text": [
      "(574967, 15)\n",
      "(574967,)\n",
      "(574967, 14)\n",
      "(574967,)\n"
     ]
    }
   ],
   "source": [
    "# Original columns\n",
    "columns = ['Elevation', 'Aspect', 'Slope', 'Horizontal_Distance_To_Hydrology',\n",
    "       'Vertical_Distance_To_Hydrology', 'Horizontal_Distance_To_Roadways',\n",
    "       'Hillshade_Noon', 'Hillshade_3pm', 'Horizontal_Distance_To_Fire_Points',\n",
    "       'Wilderness_area_1', 'Wilderness_area_2', 'Wilderness_area_3',\n",
    "       'Wilderness_area_4', 'Soil_type', 'Forest_cover_type']\n",
    "\n",
    "# transformed columns\n",
    "transformed_columns = ['Aspect', 'Hillshade_Noon', 'Hillshade_3pm', 'Horizontal_Distance_To_Fire_Points',\n",
    "       'Wilderness_area_1', 'Wilderness_area_2', 'Wilderness_area_3',\n",
    "       'Wilderness_area_4', 'Soil_type', 'Euclidean_Distance_To_Hydrology',\n",
    "       'sqrt_slope', 'sqrt_Horizontal_Distance_To_Roadways',\n",
    "       'cbrt_Horizontal_Distance_To_Fire_Points', 'square_Elevation',\n",
    "       'Euclidean_Distance_to_Roadways', 'Forest_cover_type']\n",
    "\n",
    "X = df[columns[:-1]]\n",
    "y = df[columns[-1]]\n",
    "\n",
    "X_t = df[transformed_columns[:-1]]\n",
    "y_t = df[transformed_columns[-1]]\n",
    "\n",
    "print(X_t.shape)\n",
    "print(y_t.shape)\n",
    "\n",
    "print(X.shape)\n",
    "print(y.shape)"
   ]
  },
  {
   "cell_type": "code",
   "execution_count": null,
   "id": "d1fd75ef",
   "metadata": {
    "colab": {
     "base_uri": "https://localhost:8080/",
     "height": 270
    },
    "id": "d1fd75ef",
    "outputId": "53c22bed-5b2e-4089-d649-79981fec69a1"
   },
   "outputs": [
    {
     "data": {
      "text/html": [
       "\n",
       "  <div id=\"df-463fbb3c-941c-4d92-9358-fb6ede0ebac4\">\n",
       "    <div class=\"colab-df-container\">\n",
       "      <div>\n",
       "<style scoped>\n",
       "    .dataframe tbody tr th:only-of-type {\n",
       "        vertical-align: middle;\n",
       "    }\n",
       "\n",
       "    .dataframe tbody tr th {\n",
       "        vertical-align: top;\n",
       "    }\n",
       "\n",
       "    .dataframe thead th {\n",
       "        text-align: right;\n",
       "    }\n",
       "</style>\n",
       "<table border=\"1\" class=\"dataframe\">\n",
       "  <thead>\n",
       "    <tr style=\"text-align: right;\">\n",
       "      <th></th>\n",
       "      <th>Aspect</th>\n",
       "      <th>Hillshade_Noon</th>\n",
       "      <th>Hillshade_3pm</th>\n",
       "      <th>Horizontal_Distance_To_Fire_Points</th>\n",
       "      <th>Wilderness_area_1</th>\n",
       "      <th>Wilderness_area_2</th>\n",
       "      <th>Wilderness_area_3</th>\n",
       "      <th>Wilderness_area_4</th>\n",
       "      <th>Soil_type</th>\n",
       "      <th>Euclidean_Distance_To_Hydrology</th>\n",
       "      <th>sqrt_slope</th>\n",
       "      <th>sqrt_Horizontal_Distance_To_Roadways</th>\n",
       "      <th>cbrt_Horizontal_Distance_To_Fire_Points</th>\n",
       "      <th>square_Elevation</th>\n",
       "      <th>Euclidean_Distance_to_Roadways</th>\n",
       "    </tr>\n",
       "  </thead>\n",
       "  <tbody>\n",
       "    <tr>\n",
       "      <th>145168</th>\n",
       "      <td>310</td>\n",
       "      <td>232</td>\n",
       "      <td>185</td>\n",
       "      <td>569</td>\n",
       "      <td>1</td>\n",
       "      <td>0</td>\n",
       "      <td>0</td>\n",
       "      <td>0</td>\n",
       "      <td>29</td>\n",
       "      <td>171.548827</td>\n",
       "      <td>3.464102</td>\n",
       "      <td>72.828566</td>\n",
       "      <td>8.286493</td>\n",
       "      <td>9796900</td>\n",
       "      <td>6158.678105</td>\n",
       "    </tr>\n",
       "    <tr>\n",
       "      <th>523357</th>\n",
       "      <td>132</td>\n",
       "      <td>212</td>\n",
       "      <td>68</td>\n",
       "      <td>1884</td>\n",
       "      <td>0</td>\n",
       "      <td>0</td>\n",
       "      <td>1</td>\n",
       "      <td>0</td>\n",
       "      <td>32</td>\n",
       "      <td>230.982683</td>\n",
       "      <td>5.291503</td>\n",
       "      <td>47.169906</td>\n",
       "      <td>12.350759</td>\n",
       "      <td>10719076</td>\n",
       "      <td>3958.497316</td>\n",
       "    </tr>\n",
       "    <tr>\n",
       "      <th>495913</th>\n",
       "      <td>242</td>\n",
       "      <td>248</td>\n",
       "      <td>224</td>\n",
       "      <td>2173</td>\n",
       "      <td>0</td>\n",
       "      <td>0</td>\n",
       "      <td>1</td>\n",
       "      <td>0</td>\n",
       "      <td>33</td>\n",
       "      <td>96.648849</td>\n",
       "      <td>5.477226</td>\n",
       "      <td>52.640289</td>\n",
       "      <td>12.952489</td>\n",
       "      <td>8773444</td>\n",
       "      <td>4056.092331</td>\n",
       "    </tr>\n",
       "    <tr>\n",
       "      <th>501077</th>\n",
       "      <td>0</td>\n",
       "      <td>225</td>\n",
       "      <td>154</td>\n",
       "      <td>1777</td>\n",
       "      <td>0</td>\n",
       "      <td>1</td>\n",
       "      <td>0</td>\n",
       "      <td>0</td>\n",
       "      <td>24</td>\n",
       "      <td>668.852749</td>\n",
       "      <td>2.828427</td>\n",
       "      <td>34.029399</td>\n",
       "      <td>12.112370</td>\n",
       "      <td>10764961</td>\n",
       "      <td>3479.356981</td>\n",
       "    </tr>\n",
       "    <tr>\n",
       "      <th>62282</th>\n",
       "      <td>346</td>\n",
       "      <td>228</td>\n",
       "      <td>161</td>\n",
       "      <td>2657</td>\n",
       "      <td>1</td>\n",
       "      <td>0</td>\n",
       "      <td>0</td>\n",
       "      <td>0</td>\n",
       "      <td>30</td>\n",
       "      <td>270.024073</td>\n",
       "      <td>2.828427</td>\n",
       "      <td>44.317040</td>\n",
       "      <td>13.850449</td>\n",
       "      <td>8031556</td>\n",
       "      <td>3448.021462</td>\n",
       "    </tr>\n",
       "  </tbody>\n",
       "</table>\n",
       "</div>\n",
       "      <button class=\"colab-df-convert\" onclick=\"convertToInteractive('df-463fbb3c-941c-4d92-9358-fb6ede0ebac4')\"\n",
       "              title=\"Convert this dataframe to an interactive table.\"\n",
       "              style=\"display:none;\">\n",
       "        \n",
       "  <svg xmlns=\"http://www.w3.org/2000/svg\" height=\"24px\"viewBox=\"0 0 24 24\"\n",
       "       width=\"24px\">\n",
       "    <path d=\"M0 0h24v24H0V0z\" fill=\"none\"/>\n",
       "    <path d=\"M18.56 5.44l.94 2.06.94-2.06 2.06-.94-2.06-.94-.94-2.06-.94 2.06-2.06.94zm-11 1L8.5 8.5l.94-2.06 2.06-.94-2.06-.94L8.5 2.5l-.94 2.06-2.06.94zm10 10l.94 2.06.94-2.06 2.06-.94-2.06-.94-.94-2.06-.94 2.06-2.06.94z\"/><path d=\"M17.41 7.96l-1.37-1.37c-.4-.4-.92-.59-1.43-.59-.52 0-1.04.2-1.43.59L10.3 9.45l-7.72 7.72c-.78.78-.78 2.05 0 2.83L4 21.41c.39.39.9.59 1.41.59.51 0 1.02-.2 1.41-.59l7.78-7.78 2.81-2.81c.8-.78.8-2.07 0-2.86zM5.41 20L4 18.59l7.72-7.72 1.47 1.35L5.41 20z\"/>\n",
       "  </svg>\n",
       "      </button>\n",
       "      \n",
       "  <style>\n",
       "    .colab-df-container {\n",
       "      display:flex;\n",
       "      flex-wrap:wrap;\n",
       "      gap: 12px;\n",
       "    }\n",
       "\n",
       "    .colab-df-convert {\n",
       "      background-color: #E8F0FE;\n",
       "      border: none;\n",
       "      border-radius: 50%;\n",
       "      cursor: pointer;\n",
       "      display: none;\n",
       "      fill: #1967D2;\n",
       "      height: 32px;\n",
       "      padding: 0 0 0 0;\n",
       "      width: 32px;\n",
       "    }\n",
       "\n",
       "    .colab-df-convert:hover {\n",
       "      background-color: #E2EBFA;\n",
       "      box-shadow: 0px 1px 2px rgba(60, 64, 67, 0.3), 0px 1px 3px 1px rgba(60, 64, 67, 0.15);\n",
       "      fill: #174EA6;\n",
       "    }\n",
       "\n",
       "    [theme=dark] .colab-df-convert {\n",
       "      background-color: #3B4455;\n",
       "      fill: #D2E3FC;\n",
       "    }\n",
       "\n",
       "    [theme=dark] .colab-df-convert:hover {\n",
       "      background-color: #434B5C;\n",
       "      box-shadow: 0px 1px 3px 1px rgba(0, 0, 0, 0.15);\n",
       "      filter: drop-shadow(0px 1px 2px rgba(0, 0, 0, 0.3));\n",
       "      fill: #FFFFFF;\n",
       "    }\n",
       "  </style>\n",
       "\n",
       "      <script>\n",
       "        const buttonEl =\n",
       "          document.querySelector('#df-463fbb3c-941c-4d92-9358-fb6ede0ebac4 button.colab-df-convert');\n",
       "        buttonEl.style.display =\n",
       "          google.colab.kernel.accessAllowed ? 'block' : 'none';\n",
       "\n",
       "        async function convertToInteractive(key) {\n",
       "          const element = document.querySelector('#df-463fbb3c-941c-4d92-9358-fb6ede0ebac4');\n",
       "          const dataTable =\n",
       "            await google.colab.kernel.invokeFunction('convertToInteractive',\n",
       "                                                     [key], {});\n",
       "          if (!dataTable) return;\n",
       "\n",
       "          const docLinkHtml = 'Like what you see? Visit the ' +\n",
       "            '<a target=\"_blank\" href=https://colab.research.google.com/notebooks/data_table.ipynb>data table notebook</a>'\n",
       "            + ' to learn more about interactive tables.';\n",
       "          element.innerHTML = '';\n",
       "          dataTable['output_type'] = 'display_data';\n",
       "          await google.colab.output.renderOutput(dataTable, element);\n",
       "          const docLink = document.createElement('div');\n",
       "          docLink.innerHTML = docLinkHtml;\n",
       "          element.appendChild(docLink);\n",
       "        }\n",
       "      </script>\n",
       "    </div>\n",
       "  </div>\n",
       "  "
      ],
      "text/plain": [
       "        Aspect  Hillshade_Noon  Hillshade_3pm  \\\n",
       "145168     310             232            185   \n",
       "523357     132             212             68   \n",
       "495913     242             248            224   \n",
       "501077       0             225            154   \n",
       "62282      346             228            161   \n",
       "\n",
       "        Horizontal_Distance_To_Fire_Points  Wilderness_area_1  \\\n",
       "145168                                 569                  1   \n",
       "523357                                1884                  0   \n",
       "495913                                2173                  0   \n",
       "501077                                1777                  0   \n",
       "62282                                 2657                  1   \n",
       "\n",
       "        Wilderness_area_2  Wilderness_area_3  Wilderness_area_4  Soil_type  \\\n",
       "145168                  0                  0                  0         29   \n",
       "523357                  0                  1                  0         32   \n",
       "495913                  0                  1                  0         33   \n",
       "501077                  1                  0                  0         24   \n",
       "62282                   0                  0                  0         30   \n",
       "\n",
       "        Euclidean_Distance_To_Hydrology  sqrt_slope  \\\n",
       "145168                       171.548827    3.464102   \n",
       "523357                       230.982683    5.291503   \n",
       "495913                        96.648849    5.477226   \n",
       "501077                       668.852749    2.828427   \n",
       "62282                        270.024073    2.828427   \n",
       "\n",
       "        sqrt_Horizontal_Distance_To_Roadways  \\\n",
       "145168                             72.828566   \n",
       "523357                             47.169906   \n",
       "495913                             52.640289   \n",
       "501077                             34.029399   \n",
       "62282                              44.317040   \n",
       "\n",
       "        cbrt_Horizontal_Distance_To_Fire_Points  square_Elevation  \\\n",
       "145168                                 8.286493           9796900   \n",
       "523357                                12.350759          10719076   \n",
       "495913                                12.952489           8773444   \n",
       "501077                                12.112370          10764961   \n",
       "62282                                 13.850449           8031556   \n",
       "\n",
       "        Euclidean_Distance_to_Roadways  \n",
       "145168                     6158.678105  \n",
       "523357                     3958.497316  \n",
       "495913                     4056.092331  \n",
       "501077                     3479.356981  \n",
       "62282                      3448.021462  "
      ]
     },
     "execution_count": 8,
     "metadata": {},
     "output_type": "execute_result"
    }
   ],
   "source": [
    "# splitting train and test set taking the transformed columns mixed with originals\n",
    "X_train, X_test, y_train, y_test = train_test_split(X_t, y_t, random_state=42, test_size=0.2)\n",
    "X_train.head()"
   ]
  },
  {
   "cell_type": "code",
   "execution_count": null,
   "id": "efc74e2d",
   "metadata": {
    "colab": {
     "base_uri": "https://localhost:8080/"
    },
    "id": "efc74e2d",
    "outputId": "7588de89-8a82-4d77-8d41-a7cee445c6aa"
   },
   "outputs": [
    {
     "data": {
      "text/plain": [
       "145168    2\n",
       "523357    1\n",
       "495913    2\n",
       "501077    1\n",
       "62282     1\n",
       "         ..\n",
       "110268    2\n",
       "259178    1\n",
       "365838    1\n",
       "131932    2\n",
       "121958    2\n",
       "Name: Forest_cover_type, Length: 459973, dtype: int64"
      ]
     },
     "execution_count": 9,
     "metadata": {},
     "output_type": "execute_result"
    }
   ],
   "source": [
    "y_train"
   ]
  },
  {
   "cell_type": "code",
   "execution_count": null,
   "id": "d80bbb71",
   "metadata": {
    "id": "d80bbb71"
   },
   "outputs": [],
   "source": [
    "# scaling the inputs\n",
    "scaler = StandardScaler()\n",
    "scaler.fit(X_train)\n",
    "\n",
    "X_train_scaled = scaler.transform(X_train)\n",
    "X_test_scaled = scaler.transform(X_test)"
   ]
  },
  {
   "cell_type": "markdown",
   "id": "67b9c21d",
   "metadata": {},
   "source": [
    "#### Checking the classification with hyperparameter tuned Decision Tree"
   ]
  },
  {
   "cell_type": "code",
   "execution_count": null,
   "id": "a0420367",
   "metadata": {
    "colab": {
     "base_uri": "https://localhost:8080/"
    },
    "id": "a0420367",
    "outputId": "cc481114-6358-4375-bcbf-894dd3acdaad"
   },
   "outputs": [
    {
     "name": "stdout",
     "output_type": "stream",
     "text": [
      "Fitting 5 folds for each of 36 candidates, totalling 180 fits\n",
      "[CV 1/5] END criterion=gini, max_depth=18, max_features=auto;, score=0.857 total time=   1.7s\n",
      "[CV 2/5] END criterion=gini, max_depth=18, max_features=auto;, score=0.872 total time=   1.6s\n",
      "[CV 3/5] END criterion=gini, max_depth=18, max_features=auto;, score=0.874 total time=   1.6s\n",
      "[CV 4/5] END criterion=gini, max_depth=18, max_features=auto;, score=0.864 total time=   1.7s\n",
      "[CV 5/5] END criterion=gini, max_depth=18, max_features=auto;, score=0.855 total time=   1.6s\n",
      "[CV 1/5] END criterion=gini, max_depth=18, max_features=sqrt;, score=0.848 total time=   1.7s\n",
      "[CV 2/5] END criterion=gini, max_depth=18, max_features=sqrt;, score=0.873 total time=   1.6s\n",
      "[CV 3/5] END criterion=gini, max_depth=18, max_features=sqrt;, score=0.872 total time=   1.6s\n",
      "[CV 4/5] END criterion=gini, max_depth=18, max_features=sqrt;, score=0.854 total time=   1.6s\n",
      "[CV 5/5] END criterion=gini, max_depth=18, max_features=sqrt;, score=0.859 total time=   1.6s\n",
      "[CV 1/5] END criterion=gini, max_depth=18, max_features=log2;, score=0.863 total time=   1.5s\n",
      "[CV 2/5] END criterion=gini, max_depth=18, max_features=log2;, score=0.848 total time=   1.7s\n",
      "[CV 3/5] END criterion=gini, max_depth=18, max_features=log2;, score=0.872 total time=   1.7s\n",
      "[CV 4/5] END criterion=gini, max_depth=18, max_features=log2;, score=0.869 total time=   1.5s\n",
      "[CV 5/5] END criterion=gini, max_depth=18, max_features=log2;, score=0.880 total time=   1.6s\n",
      "[CV 1/5] END criterion=gini, max_depth=20, max_features=auto;, score=0.882 total time=   1.7s\n",
      "[CV 2/5] END criterion=gini, max_depth=20, max_features=auto;, score=0.888 total time=   1.8s\n",
      "[CV 3/5] END criterion=gini, max_depth=20, max_features=auto;, score=0.892 total time=   1.6s\n",
      "[CV 4/5] END criterion=gini, max_depth=20, max_features=auto;, score=0.891 total time=   1.6s\n",
      "[CV 5/5] END criterion=gini, max_depth=20, max_features=auto;, score=0.877 total time=   1.7s\n",
      "[CV 1/5] END criterion=gini, max_depth=20, max_features=sqrt;, score=0.896 total time=   1.5s\n",
      "[CV 2/5] END criterion=gini, max_depth=20, max_features=sqrt;, score=0.891 total time=   1.7s\n",
      "[CV 3/5] END criterion=gini, max_depth=20, max_features=sqrt;, score=0.889 total time=   1.7s\n",
      "[CV 4/5] END criterion=gini, max_depth=20, max_features=sqrt;, score=0.890 total time=   1.6s\n",
      "[CV 5/5] END criterion=gini, max_depth=20, max_features=sqrt;, score=0.866 total time=   1.6s\n",
      "[CV 1/5] END criterion=gini, max_depth=20, max_features=log2;, score=0.875 total time=   1.8s\n",
      "[CV 2/5] END criterion=gini, max_depth=20, max_features=log2;, score=0.886 total time=   1.6s\n",
      "[CV 3/5] END criterion=gini, max_depth=20, max_features=log2;, score=0.881 total time=   1.5s\n",
      "[CV 4/5] END criterion=gini, max_depth=20, max_features=log2;, score=0.879 total time=   1.5s\n",
      "[CV 5/5] END criterion=gini, max_depth=20, max_features=log2;, score=0.867 total time=   1.5s\n",
      "[CV 1/5] END criterion=gini, max_depth=22, max_features=auto;, score=0.890 total time=   1.7s\n",
      "[CV 2/5] END criterion=gini, max_depth=22, max_features=auto;, score=0.903 total time=   1.6s\n",
      "[CV 3/5] END criterion=gini, max_depth=22, max_features=auto;, score=0.896 total time=   1.6s\n",
      "[CV 4/5] END criterion=gini, max_depth=22, max_features=auto;, score=0.886 total time=   1.6s\n",
      "[CV 5/5] END criterion=gini, max_depth=22, max_features=auto;, score=0.896 total time=   1.7s\n",
      "[CV 1/5] END criterion=gini, max_depth=22, max_features=sqrt;, score=0.899 total time=   1.7s\n",
      "[CV 2/5] END criterion=gini, max_depth=22, max_features=sqrt;, score=0.898 total time=   1.6s\n",
      "[CV 3/5] END criterion=gini, max_depth=22, max_features=sqrt;, score=0.900 total time=   1.8s\n",
      "[CV 4/5] END criterion=gini, max_depth=22, max_features=sqrt;, score=0.882 total time=   1.7s\n",
      "[CV 5/5] END criterion=gini, max_depth=22, max_features=sqrt;, score=0.897 total time=   1.7s\n",
      "[CV 1/5] END criterion=gini, max_depth=22, max_features=log2;, score=0.898 total time=   1.7s\n",
      "[CV 2/5] END criterion=gini, max_depth=22, max_features=log2;, score=0.903 total time=   1.6s\n",
      "[CV 3/5] END criterion=gini, max_depth=22, max_features=log2;, score=0.897 total time=   1.7s\n",
      "[CV 4/5] END criterion=gini, max_depth=22, max_features=log2;, score=0.893 total time=   1.7s\n",
      "[CV 5/5] END criterion=gini, max_depth=22, max_features=log2;, score=0.903 total time=   1.7s\n",
      "[CV 1/5] END criterion=gini, max_depth=24, max_features=auto;, score=0.908 total time=   1.7s\n",
      "[CV 2/5] END criterion=gini, max_depth=24, max_features=auto;, score=0.896 total time=   1.9s\n",
      "[CV 3/5] END criterion=gini, max_depth=24, max_features=auto;, score=0.911 total time=   1.7s\n",
      "[CV 4/5] END criterion=gini, max_depth=24, max_features=auto;, score=0.903 total time=   1.8s\n",
      "[CV 5/5] END criterion=gini, max_depth=24, max_features=auto;, score=0.910 total time=   1.9s\n",
      "[CV 1/5] END criterion=gini, max_depth=24, max_features=sqrt;, score=0.907 total time=   1.8s\n",
      "[CV 2/5] END criterion=gini, max_depth=24, max_features=sqrt;, score=0.899 total time=   1.7s\n",
      "[CV 3/5] END criterion=gini, max_depth=24, max_features=sqrt;, score=0.901 total time=   1.8s\n",
      "[CV 4/5] END criterion=gini, max_depth=24, max_features=sqrt;, score=0.898 total time=   1.7s\n",
      "[CV 5/5] END criterion=gini, max_depth=24, max_features=sqrt;, score=0.907 total time=   1.7s\n",
      "[CV 1/5] END criterion=gini, max_depth=24, max_features=log2;, score=0.906 total time=   1.8s\n",
      "[CV 2/5] END criterion=gini, max_depth=24, max_features=log2;, score=0.905 total time=   1.8s\n",
      "[CV 3/5] END criterion=gini, max_depth=24, max_features=log2;, score=0.899 total time=   1.9s\n",
      "[CV 4/5] END criterion=gini, max_depth=24, max_features=log2;, score=0.908 total time=   2.3s\n",
      "[CV 5/5] END criterion=gini, max_depth=24, max_features=log2;, score=0.913 total time=   1.8s\n",
      "[CV 1/5] END criterion=gini, max_depth=26, max_features=auto;, score=0.907 total time=   1.8s\n",
      "[CV 2/5] END criterion=gini, max_depth=26, max_features=auto;, score=0.910 total time=   1.8s\n",
      "[CV 3/5] END criterion=gini, max_depth=26, max_features=auto;, score=0.908 total time=   1.7s\n",
      "[CV 4/5] END criterion=gini, max_depth=26, max_features=auto;, score=0.912 total time=   1.8s\n",
      "[CV 5/5] END criterion=gini, max_depth=26, max_features=auto;, score=0.912 total time=   1.9s\n",
      "[CV 1/5] END criterion=gini, max_depth=26, max_features=sqrt;, score=0.898 total time=   1.8s\n",
      "[CV 2/5] END criterion=gini, max_depth=26, max_features=sqrt;, score=0.911 total time=   1.8s\n",
      "[CV 3/5] END criterion=gini, max_depth=26, max_features=sqrt;, score=0.908 total time=   1.8s\n",
      "[CV 4/5] END criterion=gini, max_depth=26, max_features=sqrt;, score=0.903 total time=   1.6s\n",
      "[CV 5/5] END criterion=gini, max_depth=26, max_features=sqrt;, score=0.908 total time=   1.8s\n",
      "[CV 1/5] END criterion=gini, max_depth=26, max_features=log2;, score=0.910 total time=   1.7s\n",
      "[CV 2/5] END criterion=gini, max_depth=26, max_features=log2;, score=0.905 total time=   1.7s\n",
      "[CV 3/5] END criterion=gini, max_depth=26, max_features=log2;, score=0.910 total time=   1.7s\n",
      "[CV 4/5] END criterion=gini, max_depth=26, max_features=log2;, score=0.916 total time=   1.7s\n",
      "[CV 5/5] END criterion=gini, max_depth=26, max_features=log2;, score=0.912 total time=   1.8s\n",
      "[CV 1/5] END criterion=gini, max_depth=28, max_features=auto;, score=0.912 total time=   1.8s\n",
      "[CV 2/5] END criterion=gini, max_depth=28, max_features=auto;, score=0.908 total time=   1.8s\n",
      "[CV 3/5] END criterion=gini, max_depth=28, max_features=auto;, score=0.914 total time=   1.6s\n",
      "[CV 4/5] END criterion=gini, max_depth=28, max_features=auto;, score=0.910 total time=   1.9s\n",
      "[CV 5/5] END criterion=gini, max_depth=28, max_features=auto;, score=0.910 total time=   1.8s\n",
      "[CV 1/5] END criterion=gini, max_depth=28, max_features=sqrt;, score=0.912 total time=   1.7s\n",
      "[CV 2/5] END criterion=gini, max_depth=28, max_features=sqrt;, score=0.913 total time=   1.8s\n",
      "[CV 3/5] END criterion=gini, max_depth=28, max_features=sqrt;, score=0.912 total time=   1.7s\n",
      "[CV 4/5] END criterion=gini, max_depth=28, max_features=sqrt;, score=0.911 total time=   1.7s\n",
      "[CV 5/5] END criterion=gini, max_depth=28, max_features=sqrt;, score=0.915 total time=   1.7s\n",
      "[CV 1/5] END criterion=gini, max_depth=28, max_features=log2;, score=0.909 total time=   1.8s\n",
      "[CV 2/5] END criterion=gini, max_depth=28, max_features=log2;, score=0.915 total time=   1.7s\n",
      "[CV 3/5] END criterion=gini, max_depth=28, max_features=log2;, score=0.914 total time=   1.6s\n",
      "[CV 4/5] END criterion=gini, max_depth=28, max_features=log2;, score=0.915 total time=   1.7s\n",
      "[CV 5/5] END criterion=gini, max_depth=28, max_features=log2;, score=0.911 total time=   1.7s\n",
      "[CV 1/5] END criterion=entropy, max_depth=18, max_features=auto;, score=0.853 total time=   1.8s\n",
      "[CV 2/5] END criterion=entropy, max_depth=18, max_features=auto;, score=0.883 total time=   1.9s\n",
      "[CV 3/5] END criterion=entropy, max_depth=18, max_features=auto;, score=0.863 total time=   1.9s\n",
      "[CV 4/5] END criterion=entropy, max_depth=18, max_features=auto;, score=0.878 total time=   1.9s\n",
      "[CV 5/5] END criterion=entropy, max_depth=18, max_features=auto;, score=0.871 total time=   1.9s\n",
      "[CV 1/5] END criterion=entropy, max_depth=18, max_features=sqrt;, score=0.870 total time=   2.1s\n",
      "[CV 2/5] END criterion=entropy, max_depth=18, max_features=sqrt;, score=0.867 total time=   2.3s\n",
      "[CV 3/5] END criterion=entropy, max_depth=18, max_features=sqrt;, score=0.864 total time=   2.1s\n",
      "[CV 4/5] END criterion=entropy, max_depth=18, max_features=sqrt;, score=0.874 total time=   1.9s\n",
      "[CV 5/5] END criterion=entropy, max_depth=18, max_features=sqrt;, score=0.862 total time=   1.9s\n",
      "[CV 1/5] END criterion=entropy, max_depth=18, max_features=log2;, score=0.882 total time=   1.8s\n",
      "[CV 2/5] END criterion=entropy, max_depth=18, max_features=log2;, score=0.857 total time=   2.3s\n",
      "[CV 3/5] END criterion=entropy, max_depth=18, max_features=log2;, score=0.866 total time=   2.1s\n",
      "[CV 4/5] END criterion=entropy, max_depth=18, max_features=log2;, score=0.881 total time=   2.0s\n",
      "[CV 5/5] END criterion=entropy, max_depth=18, max_features=log2;, score=0.870 total time=   1.8s\n",
      "[CV 1/5] END criterion=entropy, max_depth=20, max_features=auto;, score=0.901 total time=   1.9s\n",
      "[CV 2/5] END criterion=entropy, max_depth=20, max_features=auto;, score=0.882 total time=   2.1s\n",
      "[CV 3/5] END criterion=entropy, max_depth=20, max_features=auto;, score=0.894 total time=   2.2s\n",
      "[CV 4/5] END criterion=entropy, max_depth=20, max_features=auto;, score=0.883 total time=   2.1s\n",
      "[CV 5/5] END criterion=entropy, max_depth=20, max_features=auto;, score=0.894 total time=   2.1s\n",
      "[CV 1/5] END criterion=entropy, max_depth=20, max_features=sqrt;, score=0.894 total time=   2.1s\n",
      "[CV 2/5] END criterion=entropy, max_depth=20, max_features=sqrt;, score=0.901 total time=   2.1s\n",
      "[CV 3/5] END criterion=entropy, max_depth=20, max_features=sqrt;, score=0.889 total time=   1.9s\n",
      "[CV 4/5] END criterion=entropy, max_depth=20, max_features=sqrt;, score=0.885 total time=   2.0s\n",
      "[CV 5/5] END criterion=entropy, max_depth=20, max_features=sqrt;, score=0.881 total time=   2.2s\n",
      "[CV 1/5] END criterion=entropy, max_depth=20, max_features=log2;, score=0.873 total time=   2.2s\n",
      "[CV 2/5] END criterion=entropy, max_depth=20, max_features=log2;, score=0.895 total time=   2.0s\n",
      "[CV 3/5] END criterion=entropy, max_depth=20, max_features=log2;, score=0.884 total time=   2.0s\n",
      "[CV 4/5] END criterion=entropy, max_depth=20, max_features=log2;, score=0.873 total time=   2.2s\n",
      "[CV 5/5] END criterion=entropy, max_depth=20, max_features=log2;, score=0.895 total time=   1.9s\n",
      "[CV 1/5] END criterion=entropy, max_depth=22, max_features=auto;, score=0.893 total time=   2.4s\n",
      "[CV 2/5] END criterion=entropy, max_depth=22, max_features=auto;, score=0.906 total time=   2.1s\n",
      "[CV 3/5] END criterion=entropy, max_depth=22, max_features=auto;, score=0.893 total time=   2.3s\n",
      "[CV 4/5] END criterion=entropy, max_depth=22, max_features=auto;, score=0.895 total time=   2.2s\n",
      "[CV 5/5] END criterion=entropy, max_depth=22, max_features=auto;, score=0.903 total time=   1.9s\n",
      "[CV 1/5] END criterion=entropy, max_depth=22, max_features=sqrt;, score=0.901 total time=   2.2s\n",
      "[CV 2/5] END criterion=entropy, max_depth=22, max_features=sqrt;, score=0.902 total time=   2.3s\n",
      "[CV 3/5] END criterion=entropy, max_depth=22, max_features=sqrt;, score=0.906 total time=   2.1s\n",
      "[CV 4/5] END criterion=entropy, max_depth=22, max_features=sqrt;, score=0.903 total time=   2.0s\n",
      "[CV 5/5] END criterion=entropy, max_depth=22, max_features=sqrt;, score=0.906 total time=   2.1s\n",
      "[CV 1/5] END criterion=entropy, max_depth=22, max_features=log2;, score=0.902 total time=   2.0s\n",
      "[CV 2/5] END criterion=entropy, max_depth=22, max_features=log2;, score=0.911 total time=   2.1s\n",
      "[CV 3/5] END criterion=entropy, max_depth=22, max_features=log2;, score=0.905 total time=   2.2s\n",
      "[CV 4/5] END criterion=entropy, max_depth=22, max_features=log2;, score=0.896 total time=   2.0s\n",
      "[CV 5/5] END criterion=entropy, max_depth=22, max_features=log2;, score=0.902 total time=   2.2s\n",
      "[CV 1/5] END criterion=entropy, max_depth=24, max_features=auto;, score=0.908 total time=   2.1s\n",
      "[CV 2/5] END criterion=entropy, max_depth=24, max_features=auto;, score=0.910 total time=   2.1s\n",
      "[CV 3/5] END criterion=entropy, max_depth=24, max_features=auto;, score=0.913 total time=   2.3s\n",
      "[CV 4/5] END criterion=entropy, max_depth=24, max_features=auto;, score=0.914 total time=   2.0s\n",
      "[CV 5/5] END criterion=entropy, max_depth=24, max_features=auto;, score=0.916 total time=   2.2s\n",
      "[CV 1/5] END criterion=entropy, max_depth=24, max_features=sqrt;, score=0.908 total time=   2.1s\n",
      "[CV 2/5] END criterion=entropy, max_depth=24, max_features=sqrt;, score=0.914 total time=   2.2s\n",
      "[CV 3/5] END criterion=entropy, max_depth=24, max_features=sqrt;, score=0.907 total time=   2.3s\n",
      "[CV 4/5] END criterion=entropy, max_depth=24, max_features=sqrt;, score=0.903 total time=   2.2s\n",
      "[CV 5/5] END criterion=entropy, max_depth=24, max_features=sqrt;, score=0.902 total time=   2.2s\n",
      "[CV 1/5] END criterion=entropy, max_depth=24, max_features=log2;, score=0.910 total time=   2.4s\n",
      "[CV 2/5] END criterion=entropy, max_depth=24, max_features=log2;, score=0.911 total time=   2.3s\n",
      "[CV 3/5] END criterion=entropy, max_depth=24, max_features=log2;, score=0.913 total time=   2.0s\n",
      "[CV 4/5] END criterion=entropy, max_depth=24, max_features=log2;, score=0.909 total time=   2.1s\n",
      "[CV 5/5] END criterion=entropy, max_depth=24, max_features=log2;, score=0.912 total time=   2.2s\n",
      "[CV 1/5] END criterion=entropy, max_depth=26, max_features=auto;, score=0.921 total time=   2.0s\n",
      "[CV 2/5] END criterion=entropy, max_depth=26, max_features=auto;, score=0.914 total time=   2.2s\n",
      "[CV 3/5] END criterion=entropy, max_depth=26, max_features=auto;, score=0.914 total time=   2.2s\n",
      "[CV 4/5] END criterion=entropy, max_depth=26, max_features=auto;, score=0.917 total time=   2.1s\n",
      "[CV 5/5] END criterion=entropy, max_depth=26, max_features=auto;, score=0.915 total time=   2.2s\n",
      "[CV 1/5] END criterion=entropy, max_depth=26, max_features=sqrt;, score=0.918 total time=   2.2s\n",
      "[CV 2/5] END criterion=entropy, max_depth=26, max_features=sqrt;, score=0.916 total time=   2.0s\n",
      "[CV 3/5] END criterion=entropy, max_depth=26, max_features=sqrt;, score=0.916 total time=   2.2s\n",
      "[CV 4/5] END criterion=entropy, max_depth=26, max_features=sqrt;, score=0.915 total time=   2.1s\n",
      "[CV 5/5] END criterion=entropy, max_depth=26, max_features=sqrt;, score=0.918 total time=   2.0s\n",
      "[CV 1/5] END criterion=entropy, max_depth=26, max_features=log2;, score=0.919 total time=   2.2s\n",
      "[CV 2/5] END criterion=entropy, max_depth=26, max_features=log2;, score=0.914 total time=   2.2s\n",
      "[CV 3/5] END criterion=entropy, max_depth=26, max_features=log2;, score=0.916 total time=   2.0s\n",
      "[CV 4/5] END criterion=entropy, max_depth=26, max_features=log2;, score=0.916 total time=   2.1s\n",
      "[CV 5/5] END criterion=entropy, max_depth=26, max_features=log2;, score=0.913 total time=   2.2s\n",
      "[CV 1/5] END criterion=entropy, max_depth=28, max_features=auto;, score=0.916 total time=   2.3s\n",
      "[CV 2/5] END criterion=entropy, max_depth=28, max_features=auto;, score=0.915 total time=   2.3s\n",
      "[CV 3/5] END criterion=entropy, max_depth=28, max_features=auto;, score=0.915 total time=   2.2s\n",
      "[CV 4/5] END criterion=entropy, max_depth=28, max_features=auto;, score=0.915 total time=   2.2s\n",
      "[CV 5/5] END criterion=entropy, max_depth=28, max_features=auto;, score=0.918 total time=   2.4s\n",
      "[CV 1/5] END criterion=entropy, max_depth=28, max_features=sqrt;, score=0.920 total time=   2.2s\n",
      "[CV 2/5] END criterion=entropy, max_depth=28, max_features=sqrt;, score=0.919 total time=   2.3s\n",
      "[CV 3/5] END criterion=entropy, max_depth=28, max_features=sqrt;, score=0.916 total time=   2.1s\n",
      "[CV 4/5] END criterion=entropy, max_depth=28, max_features=sqrt;, score=0.918 total time=   2.2s\n",
      "[CV 5/5] END criterion=entropy, max_depth=28, max_features=sqrt;, score=0.915 total time=   2.3s\n",
      "[CV 1/5] END criterion=entropy, max_depth=28, max_features=log2;, score=0.918 total time=   2.4s\n",
      "[CV 2/5] END criterion=entropy, max_depth=28, max_features=log2;, score=0.916 total time=   2.1s\n",
      "[CV 3/5] END criterion=entropy, max_depth=28, max_features=log2;, score=0.919 total time=   2.3s\n",
      "[CV 4/5] END criterion=entropy, max_depth=28, max_features=log2;, score=0.916 total time=   2.1s\n",
      "[CV 5/5] END criterion=entropy, max_depth=28, max_features=log2;, score=0.920 total time=   2.1s\n"
     ]
    },
    {
     "data": {
      "text/plain": [
       "GridSearchCV(cv=5, estimator=DecisionTreeClassifier(),\n",
       "             param_grid={'criterion': ['gini', 'entropy'],\n",
       "                         'max_depth': range(18, 30, 2),\n",
       "                         'max_features': ['auto', 'sqrt', 'log2']},\n",
       "             scoring='accuracy', verbose=3)"
      ]
     },
     "execution_count": 11,
     "metadata": {},
     "output_type": "execute_result"
    }
   ],
   "source": [
    "# gridsearch for best hyperparameters for a decision tree\n",
    "tree = DecisionTreeClassifier()\n",
    "\n",
    "params = {'criterion': ['gini', 'entropy'], 'max_features': ['auto', 'sqrt', 'log2'], 'max_depth': range(18, 30, 2)}\n",
    "\n",
    "grid = GridSearchCV(tree, params, scoring='accuracy', cv=5, verbose=3)\n",
    "\n",
    "grid.fit(X_train, y_train)"
   ]
  },
  {
   "cell_type": "code",
   "execution_count": null,
   "id": "448834d1",
   "metadata": {
    "colab": {
     "base_uri": "https://localhost:8080/"
    },
    "id": "448834d1",
    "outputId": "076461d8-ad44-430f-a0e3-5dba8721f5d1"
   },
   "outputs": [
    {
     "data": {
      "text/plain": [
       "0.9249960867523523"
      ]
     },
     "execution_count": 12,
     "metadata": {},
     "output_type": "execute_result"
    }
   ],
   "source": [
    "grid.best_estimator_.score(X_test, y_test)"
   ]
  },
  {
   "cell_type": "markdown",
   "id": "97298a69",
   "metadata": {
    "id": "97298a69"
   },
   "source": [
    "#### The Decision Tree gave an accuracy of 92%. Lets look at the classification report and confusion matrix between the predicted and true labels"
   ]
  },
  {
   "cell_type": "code",
   "execution_count": null,
   "id": "77652218",
   "metadata": {
    "colab": {
     "base_uri": "https://localhost:8080/",
     "height": 627
    },
    "id": "77652218",
    "outputId": "b5c4d043-f33a-46c3-d4f3-ae77ddc542f4"
   },
   "outputs": [
    {
     "data": {
      "image/png": "[encoded data removed]",
      "text/plain": [
       "<Figure size 864x720 with 2 Axes>"
      ]
     },
     "metadata": {
      "needs_background": "light"
     },
     "output_type": "display_data"
    }
   ],
   "source": [
    "# predicted labels\n",
    "y_pred = grid.best_estimator_.predict(X_test)\n",
    "\n",
    "plt.figure(figsize=(12, 10))\n",
    "cm = confusion_matrix(y_test, y_pred)\n",
    "cm = cm.astype('float') / cm.sum(axis=1)[:, np.newaxis]\n",
    "ax = sns.heatmap(cm, annot=True, cmap='seismic')\n",
    "ax.set_title(\"Confusion matrix between true and predicted labels\")\n",
    "ax.set_xlabel(\"Predicted labels\")\n",
    "ax.set_ylabel(\"Actual labels\")\n",
    "\n",
    "plt.show()"
   ]
  },
  {
   "cell_type": "code",
   "execution_count": null,
   "id": "1cf65213",
   "metadata": {
    "colab": {
     "base_uri": "https://localhost:8080/"
    },
    "id": "1cf65213",
    "outputId": "b7fc83fd-90a7-4a04-f9ff-8f0575f60f70"
   },
   "outputs": [
    {
     "name": "stdout",
     "output_type": "stream",
     "text": [
      "              precision    recall  f1-score   support\n",
      "\n",
      "           1       0.92      0.92      0.92     42012\n",
      "           2       0.94      0.94      0.94     56022\n",
      "           3       0.91      0.91      0.91      7143\n",
      "           4       0.80      0.78      0.79       531\n",
      "           5       0.83      0.81      0.82      1887\n",
      "           6       0.84      0.84      0.84      3472\n",
      "           7       0.94      0.94      0.94      3927\n",
      "\n",
      "    accuracy                           0.92    114994\n",
      "   macro avg       0.88      0.88      0.88    114994\n",
      "weighted avg       0.92      0.92      0.92    114994\n",
      "\n"
     ]
    }
   ],
   "source": [
    "# The precision, recall and f1-score will give a better idea about how our model performed at predicting specific labels\n",
    "print(classification_report(y_test, y_pred))"
   ]
  },
  {
   "cell_type": "markdown",
   "id": "db54baa6",
   "metadata": {
    "id": "db54baa6"
   },
   "source": [
    "#### The precision, recall for cover type 4, 5, 6 are lower than that of the rest. This could be due to the lower number of datapoints compared to the other types of cover. Maybe ensemble will give better estimates"
   ]
  },
  {
   "cell_type": "code",
   "execution_count": null,
   "id": "14b681ae",
   "metadata": {
    "colab": {
     "base_uri": "https://localhost:8080/"
    },
    "id": "14b681ae",
    "outputId": "e5e7cbae-38f6-4113-edc8-f7e764824fee"
   },
   "outputs": [
    {
     "data": {
      "text/plain": [
       "{'criterion': 'entropy', 'max_depth': 28, 'max_features': 'log2'}"
      ]
     },
     "execution_count": 15,
     "metadata": {},
     "output_type": "execute_result"
    }
   ],
   "source": [
    "# best parameters for the decision tree\n",
    "grid.best_params_"
   ]
  },
  {
   "cell_type": "markdown",
   "id": "b6b42cd4",
   "metadata": {
    "id": "b6b42cd4"
   },
   "source": [
    "### Checking the correlation between each of the variable and cover type so that the best variables can be chosen to build an accurate model"
   ]
  },
  {
   "cell_type": "code",
   "execution_count": null,
   "id": "e737a157",
   "metadata": {
    "colab": {
     "base_uri": "https://localhost:8080/",
     "height": 677
    },
    "id": "e737a157",
    "outputId": "3c60b811-0d23-483a-9e9e-158a0bf1b750"
   },
   "outputs": [
    {
     "data": {
      "text/html": [
       "\n",
       "  <div id=\"df-18502d5a-7318-4fa6-b112-807a137dd0a4\">\n",
       "    <div class=\"colab-df-container\">\n",
       "      <div>\n",
       "<style scoped>\n",
       "    .dataframe tbody tr th:only-of-type {\n",
       "        vertical-align: middle;\n",
       "    }\n",
       "\n",
       "    .dataframe tbody tr th {\n",
       "        vertical-align: top;\n",
       "    }\n",
       "\n",
       "    .dataframe thead th {\n",
       "        text-align: right;\n",
       "    }\n",
       "</style>\n",
       "<table border=\"1\" class=\"dataframe\">\n",
       "  <thead>\n",
       "    <tr style=\"text-align: right;\">\n",
       "      <th></th>\n",
       "      <th>Features</th>\n",
       "      <th>Forest_cover_type</th>\n",
       "    </tr>\n",
       "  </thead>\n",
       "  <tbody>\n",
       "    <tr>\n",
       "      <th>18</th>\n",
       "      <td>Elevation</td>\n",
       "      <td>-0.282478</td>\n",
       "    </tr>\n",
       "    <tr>\n",
       "      <th>8</th>\n",
       "      <td>square_Elevation</td>\n",
       "      <td>-0.260229</td>\n",
       "    </tr>\n",
       "    <tr>\n",
       "      <th>4</th>\n",
       "      <td>Euclidean_Distance_to_Roadways</td>\n",
       "      <td>-0.203245</td>\n",
       "    </tr>\n",
       "    <tr>\n",
       "      <th>6</th>\n",
       "      <td>Wilderness_area_1</td>\n",
       "      <td>-0.202530</td>\n",
       "    </tr>\n",
       "    <tr>\n",
       "      <th>7</th>\n",
       "      <td>Soil_type</td>\n",
       "      <td>-0.171382</td>\n",
       "    </tr>\n",
       "    <tr>\n",
       "      <th>11</th>\n",
       "      <td>sqrt_Horizontal_Distance_To_Roadways</td>\n",
       "      <td>-0.169443</td>\n",
       "    </tr>\n",
       "    <tr>\n",
       "      <th>19</th>\n",
       "      <td>Horizontal_Distance_To_Roadways</td>\n",
       "      <td>-0.161618</td>\n",
       "    </tr>\n",
       "    <tr>\n",
       "      <th>2</th>\n",
       "      <td>cbrt_Horizontal_Distance_To_Fire_Points</td>\n",
       "      <td>-0.125472</td>\n",
       "    </tr>\n",
       "    <tr>\n",
       "      <th>13</th>\n",
       "      <td>Horizontal_Distance_To_Fire_Points</td>\n",
       "      <td>-0.113469</td>\n",
       "    </tr>\n",
       "    <tr>\n",
       "      <th>14</th>\n",
       "      <td>Hillshade_Noon</td>\n",
       "      <td>-0.097701</td>\n",
       "    </tr>\n",
       "    <tr>\n",
       "      <th>0</th>\n",
       "      <td>Hillshade_3pm</td>\n",
       "      <td>-0.050652</td>\n",
       "    </tr>\n",
       "    <tr>\n",
       "      <th>20</th>\n",
       "      <td>Wilderness_area_2</td>\n",
       "      <td>-0.047768</td>\n",
       "    </tr>\n",
       "    <tr>\n",
       "      <th>3</th>\n",
       "      <td>Horizontal_Distance_To_Hydrology</td>\n",
       "      <td>-0.032714</td>\n",
       "    </tr>\n",
       "    <tr>\n",
       "      <th>9</th>\n",
       "      <td>Euclidean_Distance_To_Hydrology</td>\n",
       "      <td>-0.026661</td>\n",
       "    </tr>\n",
       "    <tr>\n",
       "      <th>16</th>\n",
       "      <td>Aspect</td>\n",
       "      <td>0.015951</td>\n",
       "    </tr>\n",
       "    <tr>\n",
       "      <th>17</th>\n",
       "      <td>Wilderness_area_3</td>\n",
       "      <td>0.063181</td>\n",
       "    </tr>\n",
       "    <tr>\n",
       "      <th>5</th>\n",
       "      <td>Vertical_Distance_To_Hydrology</td>\n",
       "      <td>0.079297</td>\n",
       "    </tr>\n",
       "    <tr>\n",
       "      <th>12</th>\n",
       "      <td>sqrt_slope</td>\n",
       "      <td>0.142313</td>\n",
       "    </tr>\n",
       "    <tr>\n",
       "      <th>15</th>\n",
       "      <td>Slope</td>\n",
       "      <td>0.152021</td>\n",
       "    </tr>\n",
       "    <tr>\n",
       "      <th>10</th>\n",
       "      <td>Wilderness_area_4</td>\n",
       "      <td>0.327274</td>\n",
       "    </tr>\n",
       "  </tbody>\n",
       "</table>\n",
       "</div>\n",
       "      <button class=\"colab-df-convert\" onclick=\"convertToInteractive('df-18502d5a-7318-4fa6-b112-807a137dd0a4')\"\n",
       "              title=\"Convert this dataframe to an interactive table.\"\n",
       "              style=\"display:none;\">\n",
       "        \n",
       "  <svg xmlns=\"http://www.w3.org/2000/svg\" height=\"24px\"viewBox=\"0 0 24 24\"\n",
       "       width=\"24px\">\n",
       "    <path d=\"M0 0h24v24H0V0z\" fill=\"none\"/>\n",
       "    <path d=\"M18.56 5.44l.94 2.06.94-2.06 2.06-.94-2.06-.94-.94-2.06-.94 2.06-2.06.94zm-11 1L8.5 8.5l.94-2.06 2.06-.94-2.06-.94L8.5 2.5l-.94 2.06-2.06.94zm10 10l.94 2.06.94-2.06 2.06-.94-2.06-.94-.94-2.06-.94 2.06-2.06.94z\"/><path d=\"M17.41 7.96l-1.37-1.37c-.4-.4-.92-.59-1.43-.59-.52 0-1.04.2-1.43.59L10.3 9.45l-7.72 7.72c-.78.78-.78 2.05 0 2.83L4 21.41c.39.39.9.59 1.41.59.51 0 1.02-.2 1.41-.59l7.78-7.78 2.81-2.81c.8-.78.8-2.07 0-2.86zM5.41 20L4 18.59l7.72-7.72 1.47 1.35L5.41 20z\"/>\n",
       "  </svg>\n",
       "      </button>\n",
       "      \n",
       "  <style>\n",
       "    .colab-df-container {\n",
       "      display:flex;\n",
       "      flex-wrap:wrap;\n",
       "      gap: 12px;\n",
       "    }\n",
       "\n",
       "    .colab-df-convert {\n",
       "      background-color: #E8F0FE;\n",
       "      border: none;\n",
       "      border-radius: 50%;\n",
       "      cursor: pointer;\n",
       "      display: none;\n",
       "      fill: #1967D2;\n",
       "      height: 32px;\n",
       "      padding: 0 0 0 0;\n",
       "      width: 32px;\n",
       "    }\n",
       "\n",
       "    .colab-df-convert:hover {\n",
       "      background-color: #E2EBFA;\n",
       "      box-shadow: 0px 1px 2px rgba(60, 64, 67, 0.3), 0px 1px 3px 1px rgba(60, 64, 67, 0.15);\n",
       "      fill: #174EA6;\n",
       "    }\n",
       "\n",
       "    [theme=dark] .colab-df-convert {\n",
       "      background-color: #3B4455;\n",
       "      fill: #D2E3FC;\n",
       "    }\n",
       "\n",
       "    [theme=dark] .colab-df-convert:hover {\n",
       "      background-color: #434B5C;\n",
       "      box-shadow: 0px 1px 3px 1px rgba(0, 0, 0, 0.15);\n",
       "      filter: drop-shadow(0px 1px 2px rgba(0, 0, 0, 0.3));\n",
       "      fill: #FFFFFF;\n",
       "    }\n",
       "  </style>\n",
       "\n",
       "      <script>\n",
       "        const buttonEl =\n",
       "          document.querySelector('#df-18502d5a-7318-4fa6-b112-807a137dd0a4 button.colab-df-convert');\n",
       "        buttonEl.style.display =\n",
       "          google.colab.kernel.accessAllowed ? 'block' : 'none';\n",
       "\n",
       "        async function convertToInteractive(key) {\n",
       "          const element = document.querySelector('#df-18502d5a-7318-4fa6-b112-807a137dd0a4');\n",
       "          const dataTable =\n",
       "            await google.colab.kernel.invokeFunction('convertToInteractive',\n",
       "                                                     [key], {});\n",
       "          if (!dataTable) return;\n",
       "\n",
       "          const docLinkHtml = 'Like what you see? Visit the ' +\n",
       "            '<a target=\"_blank\" href=https://colab.research.google.com/notebooks/data_table.ipynb>data table notebook</a>'\n",
       "            + ' to learn more about interactive tables.';\n",
       "          element.innerHTML = '';\n",
       "          dataTable['output_type'] = 'display_data';\n",
       "          await google.colab.output.renderOutput(dataTable, element);\n",
       "          const docLink = document.createElement('div');\n",
       "          docLink.innerHTML = docLinkHtml;\n",
       "          element.appendChild(docLink);\n",
       "        }\n",
       "      </script>\n",
       "    </div>\n",
       "  </div>\n",
       "  "
      ],
      "text/plain": [
       "                                   Features  Forest_cover_type\n",
       "18                                Elevation          -0.282478\n",
       "8                          square_Elevation          -0.260229\n",
       "4            Euclidean_Distance_to_Roadways          -0.203245\n",
       "6                         Wilderness_area_1          -0.202530\n",
       "7                                 Soil_type          -0.171382\n",
       "11     sqrt_Horizontal_Distance_To_Roadways          -0.169443\n",
       "19          Horizontal_Distance_To_Roadways          -0.161618\n",
       "2   cbrt_Horizontal_Distance_To_Fire_Points          -0.125472\n",
       "13       Horizontal_Distance_To_Fire_Points          -0.113469\n",
       "14                           Hillshade_Noon          -0.097701\n",
       "0                             Hillshade_3pm          -0.050652\n",
       "20                        Wilderness_area_2          -0.047768\n",
       "3          Horizontal_Distance_To_Hydrology          -0.032714\n",
       "9           Euclidean_Distance_To_Hydrology          -0.026661\n",
       "16                                   Aspect           0.015951\n",
       "17                        Wilderness_area_3           0.063181\n",
       "5            Vertical_Distance_To_Hydrology           0.079297\n",
       "12                               sqrt_slope           0.142313\n",
       "15                                    Slope           0.152021\n",
       "10                        Wilderness_area_4           0.327274"
      ]
     },
     "execution_count": 16,
     "metadata": {},
     "output_type": "execute_result"
    }
   ],
   "source": [
    "correlation_df = pd.DataFrame(df[set(columns + transformed_columns)].corr())\n",
    "correlation_df = pd.DataFrame(correlation_df['Forest_cover_type']).reset_index()\n",
    "\n",
    "correlation_df.columns = ['Features', 'Forest_cover_type']\n",
    "\n",
    "correlation_df = correlation_df.sort_values(by='Forest_cover_type')\n",
    "correlation_df[:-1]"
   ]
  },
  {
   "cell_type": "code",
   "execution_count": null,
   "id": "255495a5",
   "metadata": {
    "colab": {
     "base_uri": "https://localhost:8080/"
    },
    "id": "255495a5",
    "outputId": "9e0487e4-5b62-48e2-d36b-c2a94149baf2"
   },
   "outputs": [
    {
     "data": {
      "text/plain": [
       "['Elevation',\n",
       " 'square_Elevation',\n",
       " 'Euclidean_Distance_to_Roadways',\n",
       " 'Wilderness_area_1',\n",
       " 'Soil_type',\n",
       " 'sqrt_Horizontal_Distance_To_Roadways',\n",
       " 'Horizontal_Distance_To_Roadways',\n",
       " 'cbrt_Horizontal_Distance_To_Fire_Points',\n",
       " 'Horizontal_Distance_To_Fire_Points',\n",
       " 'Hillshade_Noon',\n",
       " 'Hillshade_3pm',\n",
       " 'Wilderness_area_2',\n",
       " 'Horizontal_Distance_To_Hydrology',\n",
       " 'Euclidean_Distance_To_Hydrology',\n",
       " 'Aspect',\n",
       " 'Wilderness_area_3',\n",
       " 'Vertical_Distance_To_Hydrology',\n",
       " 'sqrt_slope',\n",
       " 'Slope',\n",
       " 'Wilderness_area_4',\n",
       " 'Forest_cover_type']"
      ]
     },
     "execution_count": 17,
     "metadata": {},
     "output_type": "execute_result"
    }
   ],
   "source": [
    "correlation_df['Features'].tolist()"
   ]
  },
  {
   "cell_type": "code",
   "execution_count": null,
   "id": "83e87f58",
   "metadata": {
    "colab": {
     "base_uri": "https://localhost:8080/",
     "height": 270
    },
    "id": "83e87f58",
    "outputId": "28ab6b05-d31a-4720-c6c3-cee4175a6bc0"
   },
   "outputs": [
    {
     "data": {
      "text/html": [
       "\n",
       "  <div id=\"df-767efcff-8bc5-454e-b08b-4efdde40638b\">\n",
       "    <div class=\"colab-df-container\">\n",
       "      <div>\n",
       "<style scoped>\n",
       "    .dataframe tbody tr th:only-of-type {\n",
       "        vertical-align: middle;\n",
       "    }\n",
       "\n",
       "    .dataframe tbody tr th {\n",
       "        vertical-align: top;\n",
       "    }\n",
       "\n",
       "    .dataframe thead th {\n",
       "        text-align: right;\n",
       "    }\n",
       "</style>\n",
       "<table border=\"1\" class=\"dataframe\">\n",
       "  <thead>\n",
       "    <tr style=\"text-align: right;\">\n",
       "      <th></th>\n",
       "      <th>Elevation</th>\n",
       "      <th>Euclidean_Distance_to_Roadways</th>\n",
       "      <th>Wilderness_area_1</th>\n",
       "      <th>Soil_type</th>\n",
       "      <th>sqrt_Horizontal_Distance_To_Roadways</th>\n",
       "      <th>Horizontal_Distance_To_Roadways</th>\n",
       "      <th>cbrt_Horizontal_Distance_To_Fire_Points</th>\n",
       "      <th>Horizontal_Distance_To_Fire_Points</th>\n",
       "      <th>Hillshade_Noon</th>\n",
       "      <th>Wilderness_area_3</th>\n",
       "      <th>Vertical_Distance_To_Hydrology</th>\n",
       "      <th>Slope</th>\n",
       "      <th>Wilderness_area_4</th>\n",
       "    </tr>\n",
       "  </thead>\n",
       "  <tbody>\n",
       "    <tr>\n",
       "      <th>145168</th>\n",
       "      <td>3130</td>\n",
       "      <td>6158.678105</td>\n",
       "      <td>1</td>\n",
       "      <td>29</td>\n",
       "      <td>72.828566</td>\n",
       "      <td>5304</td>\n",
       "      <td>8.286493</td>\n",
       "      <td>569</td>\n",
       "      <td>232</td>\n",
       "      <td>0</td>\n",
       "      <td>23</td>\n",
       "      <td>12</td>\n",
       "      <td>0</td>\n",
       "    </tr>\n",
       "    <tr>\n",
       "      <th>523357</th>\n",
       "      <td>3274</td>\n",
       "      <td>3958.497316</td>\n",
       "      <td>0</td>\n",
       "      <td>32</td>\n",
       "      <td>47.169906</td>\n",
       "      <td>2225</td>\n",
       "      <td>12.350759</td>\n",
       "      <td>1884</td>\n",
       "      <td>212</td>\n",
       "      <td>1</td>\n",
       "      <td>37</td>\n",
       "      <td>28</td>\n",
       "      <td>0</td>\n",
       "    </tr>\n",
       "    <tr>\n",
       "      <th>495913</th>\n",
       "      <td>2962</td>\n",
       "      <td>4056.092331</td>\n",
       "      <td>0</td>\n",
       "      <td>33</td>\n",
       "      <td>52.640289</td>\n",
       "      <td>2771</td>\n",
       "      <td>12.952489</td>\n",
       "      <td>2173</td>\n",
       "      <td>248</td>\n",
       "      <td>1</td>\n",
       "      <td>46</td>\n",
       "      <td>30</td>\n",
       "      <td>0</td>\n",
       "    </tr>\n",
       "    <tr>\n",
       "      <th>501077</th>\n",
       "      <td>3281</td>\n",
       "      <td>3479.356981</td>\n",
       "      <td>0</td>\n",
       "      <td>24</td>\n",
       "      <td>34.029399</td>\n",
       "      <td>1158</td>\n",
       "      <td>12.112370</td>\n",
       "      <td>1777</td>\n",
       "      <td>225</td>\n",
       "      <td>0</td>\n",
       "      <td>120</td>\n",
       "      <td>8</td>\n",
       "      <td>0</td>\n",
       "    </tr>\n",
       "    <tr>\n",
       "      <th>62282</th>\n",
       "      <td>2834</td>\n",
       "      <td>3448.021462</td>\n",
       "      <td>1</td>\n",
       "      <td>30</td>\n",
       "      <td>44.317040</td>\n",
       "      <td>1964</td>\n",
       "      <td>13.850449</td>\n",
       "      <td>2657</td>\n",
       "      <td>228</td>\n",
       "      <td>0</td>\n",
       "      <td>33</td>\n",
       "      <td>8</td>\n",
       "      <td>0</td>\n",
       "    </tr>\n",
       "  </tbody>\n",
       "</table>\n",
       "</div>\n",
       "      <button class=\"colab-df-convert\" onclick=\"convertToInteractive('df-767efcff-8bc5-454e-b08b-4efdde40638b')\"\n",
       "              title=\"Convert this dataframe to an interactive table.\"\n",
       "              style=\"display:none;\">\n",
       "        \n",
       "  <svg xmlns=\"http://www.w3.org/2000/svg\" height=\"24px\"viewBox=\"0 0 24 24\"\n",
       "       width=\"24px\">\n",
       "    <path d=\"M0 0h24v24H0V0z\" fill=\"none\"/>\n",
       "    <path d=\"M18.56 5.44l.94 2.06.94-2.06 2.06-.94-2.06-.94-.94-2.06-.94 2.06-2.06.94zm-11 1L8.5 8.5l.94-2.06 2.06-.94-2.06-.94L8.5 2.5l-.94 2.06-2.06.94zm10 10l.94 2.06.94-2.06 2.06-.94-2.06-.94-.94-2.06-.94 2.06-2.06.94z\"/><path d=\"M17.41 7.96l-1.37-1.37c-.4-.4-.92-.59-1.43-.59-.52 0-1.04.2-1.43.59L10.3 9.45l-7.72 7.72c-.78.78-.78 2.05 0 2.83L4 21.41c.39.39.9.59 1.41.59.51 0 1.02-.2 1.41-.59l7.78-7.78 2.81-2.81c.8-.78.8-2.07 0-2.86zM5.41 20L4 18.59l7.72-7.72 1.47 1.35L5.41 20z\"/>\n",
       "  </svg>\n",
       "      </button>\n",
       "      \n",
       "  <style>\n",
       "    .colab-df-container {\n",
       "      display:flex;\n",
       "      flex-wrap:wrap;\n",
       "      gap: 12px;\n",
       "    }\n",
       "\n",
       "    .colab-df-convert {\n",
       "      background-color: #E8F0FE;\n",
       "      border: none;\n",
       "      border-radius: 50%;\n",
       "      cursor: pointer;\n",
       "      display: none;\n",
       "      fill: #1967D2;\n",
       "      height: 32px;\n",
       "      padding: 0 0 0 0;\n",
       "      width: 32px;\n",
       "    }\n",
       "\n",
       "    .colab-df-convert:hover {\n",
       "      background-color: #E2EBFA;\n",
       "      box-shadow: 0px 1px 2px rgba(60, 64, 67, 0.3), 0px 1px 3px 1px rgba(60, 64, 67, 0.15);\n",
       "      fill: #174EA6;\n",
       "    }\n",
       "\n",
       "    [theme=dark] .colab-df-convert {\n",
       "      background-color: #3B4455;\n",
       "      fill: #D2E3FC;\n",
       "    }\n",
       "\n",
       "    [theme=dark] .colab-df-convert:hover {\n",
       "      background-color: #434B5C;\n",
       "      box-shadow: 0px 1px 3px 1px rgba(0, 0, 0, 0.15);\n",
       "      filter: drop-shadow(0px 1px 2px rgba(0, 0, 0, 0.3));\n",
       "      fill: #FFFFFF;\n",
       "    }\n",
       "  </style>\n",
       "\n",
       "      <script>\n",
       "        const buttonEl =\n",
       "          document.querySelector('#df-767efcff-8bc5-454e-b08b-4efdde40638b button.colab-df-convert');\n",
       "        buttonEl.style.display =\n",
       "          google.colab.kernel.accessAllowed ? 'block' : 'none';\n",
       "\n",
       "        async function convertToInteractive(key) {\n",
       "          const element = document.querySelector('#df-767efcff-8bc5-454e-b08b-4efdde40638b');\n",
       "          const dataTable =\n",
       "            await google.colab.kernel.invokeFunction('convertToInteractive',\n",
       "                                                     [key], {});\n",
       "          if (!dataTable) return;\n",
       "\n",
       "          const docLinkHtml = 'Like what you see? Visit the ' +\n",
       "            '<a target=\"_blank\" href=https://colab.research.google.com/notebooks/data_table.ipynb>data table notebook</a>'\n",
       "            + ' to learn more about interactive tables.';\n",
       "          element.innerHTML = '';\n",
       "          dataTable['output_type'] = 'display_data';\n",
       "          await google.colab.output.renderOutput(dataTable, element);\n",
       "          const docLink = document.createElement('div');\n",
       "          docLink.innerHTML = docLinkHtml;\n",
       "          element.appendChild(docLink);\n",
       "        }\n",
       "      </script>\n",
       "    </div>\n",
       "  </div>\n",
       "  "
      ],
      "text/plain": [
       "        Elevation  Euclidean_Distance_to_Roadways  Wilderness_area_1  \\\n",
       "145168       3130                     6158.678105                  1   \n",
       "523357       3274                     3958.497316                  0   \n",
       "495913       2962                     4056.092331                  0   \n",
       "501077       3281                     3479.356981                  0   \n",
       "62282        2834                     3448.021462                  1   \n",
       "\n",
       "        Soil_type  sqrt_Horizontal_Distance_To_Roadways  \\\n",
       "145168         29                             72.828566   \n",
       "523357         32                             47.169906   \n",
       "495913         33                             52.640289   \n",
       "501077         24                             34.029399   \n",
       "62282          30                             44.317040   \n",
       "\n",
       "        Horizontal_Distance_To_Roadways  \\\n",
       "145168                             5304   \n",
       "523357                             2225   \n",
       "495913                             2771   \n",
       "501077                             1158   \n",
       "62282                              1964   \n",
       "\n",
       "        cbrt_Horizontal_Distance_To_Fire_Points  \\\n",
       "145168                                 8.286493   \n",
       "523357                                12.350759   \n",
       "495913                                12.952489   \n",
       "501077                                12.112370   \n",
       "62282                                 13.850449   \n",
       "\n",
       "        Horizontal_Distance_To_Fire_Points  Hillshade_Noon  Wilderness_area_3  \\\n",
       "145168                                 569             232                  0   \n",
       "523357                                1884             212                  1   \n",
       "495913                                2173             248                  1   \n",
       "501077                                1777             225                  0   \n",
       "62282                                 2657             228                  0   \n",
       "\n",
       "        Vertical_Distance_To_Hydrology  Slope  Wilderness_area_4  \n",
       "145168                              23     12                  0  \n",
       "523357                              37     28                  0  \n",
       "495913                              46     30                  0  \n",
       "501077                             120      8                  0  \n",
       "62282                               33      8                  0  "
      ]
     },
     "execution_count": 5,
     "metadata": {},
     "output_type": "execute_result"
    }
   ],
   "source": [
    "# choosing the best features from the correlation dataframe and exclude the features that does not contributes much to the target\n",
    "final_features = ['Elevation',\n",
    " 'Euclidean_Distance_to_Roadways',\n",
    " 'Wilderness_area_1',\n",
    " 'Soil_type',\n",
    " 'sqrt_Horizontal_Distance_To_Roadways',\n",
    " 'Horizontal_Distance_To_Roadways',\n",
    " 'cbrt_Horizontal_Distance_To_Fire_Points',\n",
    " 'Horizontal_Distance_To_Fire_Points',\n",
    " 'Hillshade_Noon',\n",
    " 'Wilderness_area_3',\n",
    " 'Vertical_Distance_To_Hydrology',\n",
    " 'Slope',\n",
    " 'Wilderness_area_4',\n",
    " 'Forest_cover_type']\n",
    "\n",
    "X_final = df[final_features[:-1]]\n",
    "y_final = df[final_features[-1]]\n",
    "\n",
    "y_final = [int(value)-1 for value in y_final]\n",
    "\n",
    "X_train_final, X_test_final, y_train_final, y_test_final = train_test_split(X_final, y_final, random_state=42, test_size=0.2)\n",
    "X_train_final.head()"
   ]
  },
  {
   "cell_type": "code",
   "execution_count": null,
   "id": "24ed53a7",
   "metadata": {
    "id": "24ed53a7"
   },
   "outputs": [],
   "source": [
    "# scaling the features for input in specific models like KNN\n",
    "scaler = StandardScaler()\n",
    "\n",
    "X_train_final_scaled = scaler.fit_transform(X_train_final)\n",
    "X_test_final_scaled = scaler.transform(X_test_final)"
   ]
  },
  {
   "cell_type": "code",
   "execution_count": null,
   "id": "9b43d5ea",
   "metadata": {
    "id": "9b43d5ea"
   },
   "outputs": [],
   "source": [
    "# function for evaluating the model wrt accuracy score\n",
    "def fit_evaluate_model(model, X_train, X_test, y_train, y_test):\n",
    "    model.fit(X_train, y_train)\n",
    "    y_pred = model.predict(X_test)\n",
    "    return accuracy_score(y_test, y_pred)"
   ]
  },
  {
   "cell_type": "code",
   "execution_count": null,
   "id": "7301e927",
   "metadata": {
    "id": "7301e927"
   },
   "outputs": [],
   "source": [
    "from sklearn.neighbors import KNeighborsClassifier\n",
    "from sklearn.ensemble import RandomForestClassifier, ExtraTreesClassifier\n",
    "from xgboost import XGBClassifier"
   ]
  },
  {
   "cell_type": "markdown",
   "id": "c264d727",
   "metadata": {
    "id": "c264d727"
   },
   "source": [
    "### To check the accuracy against the each model with default parameters and determine the best model."
   ]
  },
  {
   "cell_type": "code",
   "execution_count": null,
   "id": "01351846",
   "metadata": {
    "colab": {
     "base_uri": "https://localhost:8080/"
    },
    "id": "01351846",
    "outputId": "5db2f890-9e09-44eb-acf0-d7446ec66c1d"
   },
   "outputs": [
    {
     "name": "stdout",
     "output_type": "stream",
     "text": [
      "KNeighborsClassifier() score:  0.9348835591422161\n",
      "RandomForestClassifier() score:  0.964815555594205\n",
      "ExtraTreesClassifier() score:  0.9675809172652486\n",
      "XGBClassifier(objective='multi:softprob') score:  0.7386820181922535\n"
     ]
    }
   ],
   "source": [
    "knn = KNeighborsClassifier()\n",
    "rf = RandomForestClassifier()\n",
    "et = ExtraTreesClassifier()\n",
    "xb = XGBClassifier()\n",
    "\n",
    "score_dict = []\n",
    "for model in [knn, rf, et, xb]:\n",
    "    if model == knn:\n",
    "        score = fit_evaluate_model(model, X_train_final_scaled, X_test_final_scaled, y_train_final, y_test_final)\n",
    "    else:\n",
    "        score = fit_evaluate_model(model, X_train_final, X_test_final, y_train_final, y_test_final)\n",
    "    score_dict.append(score)\n",
    "    print(str(model), \"score: \", score)"
   ]
  },
  {
   "cell_type": "code",
   "execution_count": null,
   "id": "47b17ca8",
   "metadata": {
    "colab": {
     "base_uri": "https://localhost:8080/",
     "height": 627
    },
    "id": "47b17ca8",
    "outputId": "31a75271-597e-47b6-c9eb-0d3ae3d6d637"
   },
   "outputs": [
    {
     "data": {
      "text/plain": [
       "Text(0.5, 1.0, 'Accuracy score of different Models')"
      ]
     },
     "execution_count": 23,
     "metadata": {},
     "output_type": "execute_result"
    },
    {
     "data": {
      "image/png": "[encoded data removed]",
      "text/plain": [
       "<Figure size 864x720 with 1 Axes>"
      ]
     },
     "metadata": {
      "needs_background": "light"
     },
     "output_type": "display_data"
    }
   ],
   "source": [
    "plt.figure(figsize=(12, 10))\n",
    "\n",
    "ax = sns.barplot(x= score_dict, y= ['KNearestNeighbors', 'RandomForest', 'ExtraTrees', 'XGBoost'])\n",
    "ax.set_title(\"Accuracy score of different Models\")"
   ]
  },
  {
   "cell_type": "markdown",
   "id": "5408c08e",
   "metadata": {
    "id": "5408c08e"
   },
   "source": [
    "#### It can be seen that the acuracy of ExtraTrees marginally exceeds RandomForest and quite drastically exceeds gradient boosting model. So performing hyperpameter tuning on ExtraTrees might be able to give better results."
   ]
  },
  {
   "cell_type": "code",
   "execution_count": null,
   "id": "f66aba11",
   "metadata": {
    "id": "f66aba11"
   },
   "outputs": [],
   "source": [
    "# hyperparameters to test against\n",
    "n_estimators = [50, 100, 200]\n",
    "\n",
    "min_samples_split = [2, 3, 5, 7, 9]\n",
    "\n",
    "min_samples_leaf = [1, 2, 4, 6, 8]\n",
    "\n",
    "max_features = ['auto', 'sqrt', 'log2', None]\n",
    "\n",
    "hyperparam_grid = {'n_estimators': n_estimators,\n",
    "                  'min_samples_split': min_samples_split,\n",
    "                  'min_samples_leaf': min_samples_leaf,\n",
    "                  'max_features': max_features}"
   ]
  },
  {
   "cell_type": "code",
   "execution_count": null,
   "id": "ebd869c2",
   "metadata": {
    "id": "ebd869c2"
   },
   "outputs": [],
   "source": [
    "# Lets use RandomSearchCV this time\n",
    "model = ExtraTreesClassifier(random_state=42, n_jobs=-1)\n",
    "\n",
    "# create randomized search object\n",
    "random_cv = RandomizedSearchCV(estimator= model,\n",
    "                              param_distributions= hyperparam_grid,\n",
    "                              cv= 5, n_iter= 20,\n",
    "                              scoring= 'accuracy', verbose= 10,\n",
    "                              return_train_score= True,\n",
    "                              random_state= 42)"
   ]
  },
  {
   "cell_type": "code",
   "execution_count": null,
   "id": "eab72dac",
   "metadata": {
    "colab": {
     "base_uri": "https://localhost:8080/"
    },
    "id": "eab72dac",
    "outputId": "f1f85f39-f8a0-418a-c42e-201adb2445fc"
   },
   "outputs": [
    {
     "name": "stdout",
     "output_type": "stream",
     "text": [
      "Fitting 5 folds for each of 20 candidates, totalling 100 fits\n",
      "[CV 1/5; 1/20] START max_features=log2, min_samples_leaf=6, min_samples_split=5, n_estimators=200\n",
      "[CV 1/5; 1/20] END max_features=log2, min_samples_leaf=6, min_samples_split=5, n_estimators=200;, score=(train=0.963, test=0.617) total time= 1.0min\n",
      "[CV 2/5; 1/20] START max_features=log2, min_samples_leaf=6, min_samples_split=5, n_estimators=200\n",
      "[CV 2/5; 1/20] END max_features=log2, min_samples_leaf=6, min_samples_split=5, n_estimators=200;, score=(train=0.963, test=0.451) total time= 1.0min\n",
      "[CV 3/5; 1/20] START max_features=log2, min_samples_leaf=6, min_samples_split=5, n_estimators=200\n",
      "[CV 3/5; 1/20] END max_features=log2, min_samples_leaf=6, min_samples_split=5, n_estimators=200;, score=(train=0.963, test=0.479) total time= 1.1min\n",
      "[CV 4/5; 1/20] START max_features=log2, min_samples_leaf=6, min_samples_split=5, n_estimators=200\n",
      "[CV 4/5; 1/20] END max_features=log2, min_samples_leaf=6, min_samples_split=5, n_estimators=200;, score=(train=0.961, test=0.520) total time= 1.0min\n",
      "[CV 5/5; 1/20] START max_features=log2, min_samples_leaf=6, min_samples_split=5, n_estimators=200\n",
      "[CV 5/5; 1/20] END max_features=log2, min_samples_leaf=6, min_samples_split=5, n_estimators=200;, score=(train=0.957, test=0.596) total time= 1.1min\n",
      "[CV 1/5; 2/20] START max_features=None, min_samples_leaf=4, min_samples_split=7, n_estimators=200\n",
      "[CV 1/5; 2/20] END max_features=None, min_samples_leaf=4, min_samples_split=7, n_estimators=200;, score=(train=0.994, test=0.580) total time= 2.7min\n",
      "[CV 2/5; 2/20] START max_features=None, min_samples_leaf=4, min_samples_split=7, n_estimators=200\n",
      "[CV 2/5; 2/20] END max_features=None, min_samples_leaf=4, min_samples_split=7, n_estimators=200;, score=(train=0.993, test=0.500) total time= 2.9min\n",
      "[CV 3/5; 2/20] START max_features=None, min_samples_leaf=4, min_samples_split=7, n_estimators=200\n",
      "[CV 3/5; 2/20] END max_features=None, min_samples_leaf=4, min_samples_split=7, n_estimators=200;, score=(train=0.994, test=0.469) total time= 2.8min\n",
      "[CV 4/5; 2/20] START max_features=None, min_samples_leaf=4, min_samples_split=7, n_estimators=200\n",
      "[CV 4/5; 2/20] END max_features=None, min_samples_leaf=4, min_samples_split=7, n_estimators=200;, score=(train=0.994, test=0.531) total time= 2.7min\n",
      "[CV 5/5; 2/20] START max_features=None, min_samples_leaf=4, min_samples_split=7, n_estimators=200\n",
      "[CV 5/5; 2/20] END max_features=None, min_samples_leaf=4, min_samples_split=7, n_estimators=200;, score=(train=0.993, test=0.619) total time= 2.8min\n",
      "[CV 1/5; 3/20] START max_features=log2, min_samples_leaf=1, min_samples_split=2, n_estimators=200\n",
      "[CV 1/5; 3/20] END max_features=log2, min_samples_leaf=1, min_samples_split=2, n_estimators=200;, score=(train=1.000, test=0.605) total time= 1.3min\n",
      "[CV 2/5; 3/20] START max_features=log2, min_samples_leaf=1, min_samples_split=2, n_estimators=200\n",
      "[CV 2/5; 3/20] END max_features=log2, min_samples_leaf=1, min_samples_split=2, n_estimators=200;, score=(train=1.000, test=0.572) total time= 1.3min\n",
      "[CV 3/5; 3/20] START max_features=log2, min_samples_leaf=1, min_samples_split=2, n_estimators=200\n",
      "[CV 3/5; 3/20] END max_features=log2, min_samples_leaf=1, min_samples_split=2, n_estimators=200;, score=(train=1.000, test=0.540) total time= 1.5min\n",
      "[CV 4/5; 3/20] START max_features=log2, min_samples_leaf=1, min_samples_split=2, n_estimators=200\n",
      "[CV 4/5; 3/20] END max_features=log2, min_samples_leaf=1, min_samples_split=2, n_estimators=200;, score=(train=1.000, test=0.593) total time= 1.3min\n",
      "[CV 5/5; 3/20] START max_features=log2, min_samples_leaf=1, min_samples_split=2, n_estimators=200\n",
      "[CV 5/5; 3/20] END max_features=log2, min_samples_leaf=1, min_samples_split=2, n_estimators=200;, score=(train=1.000, test=0.684) total time= 1.4min\n",
      "[CV 1/5; 4/20] START max_features=auto, min_samples_leaf=1, min_samples_split=7, n_estimators=50\n",
      "[CV 1/5; 4/20] END max_features=auto, min_samples_leaf=1, min_samples_split=7, n_estimators=50;, score=(train=0.998, test=0.601) total time=  18.5s\n",
      "[CV 2/5; 4/20] START max_features=auto, min_samples_leaf=1, min_samples_split=7, n_estimators=50\n",
      "[CV 2/5; 4/20] END max_features=auto, min_samples_leaf=1, min_samples_split=7, n_estimators=50;, score=(train=0.998, test=0.546) total time=  18.9s\n",
      "[CV 3/5; 4/20] START max_features=auto, min_samples_leaf=1, min_samples_split=7, n_estimators=50\n",
      "[CV 3/5; 4/20] END max_features=auto, min_samples_leaf=1, min_samples_split=7, n_estimators=50;, score=(train=0.998, test=0.515) total time=  18.4s\n",
      "[CV 4/5; 4/20] START max_features=auto, min_samples_leaf=1, min_samples_split=7, n_estimators=50\n",
      "[CV 4/5; 4/20] END max_features=auto, min_samples_leaf=1, min_samples_split=7, n_estimators=50;, score=(train=0.998, test=0.572) total time=  18.7s\n",
      "[CV 5/5; 4/20] START max_features=auto, min_samples_leaf=1, min_samples_split=7, n_estimators=50\n",
      "[CV 5/5; 4/20] END max_features=auto, min_samples_leaf=1, min_samples_split=7, n_estimators=50;, score=(train=0.997, test=0.660) total time=  18.6s\n",
      "[CV 1/5; 5/20] START max_features=None, min_samples_leaf=1, min_samples_split=5, n_estimators=200\n",
      "[CV 1/5; 5/20] END max_features=None, min_samples_leaf=1, min_samples_split=5, n_estimators=200;, score=(train=1.000, test=0.579) total time= 2.8min\n",
      "[CV 2/5; 5/20] START max_features=None, min_samples_leaf=1, min_samples_split=5, n_estimators=200\n",
      "[CV 2/5; 5/20] END max_features=None, min_samples_leaf=1, min_samples_split=5, n_estimators=200;, score=(train=1.000, test=0.596) total time= 2.9min\n",
      "[CV 3/5; 5/20] START max_features=None, min_samples_leaf=1, min_samples_split=5, n_estimators=200\n",
      "[CV 3/5; 5/20] END max_features=None, min_samples_leaf=1, min_samples_split=5, n_estimators=200;, score=(train=1.000, test=0.549) total time= 2.7min\n",
      "[CV 4/5; 5/20] START max_features=None, min_samples_leaf=1, min_samples_split=5, n_estimators=200\n",
      "[CV 4/5; 5/20] END max_features=None, min_samples_leaf=1, min_samples_split=5, n_estimators=200;, score=(train=1.000, test=0.607) total time= 2.8min\n",
      "[CV 5/5; 5/20] START max_features=None, min_samples_leaf=1, min_samples_split=5, n_estimators=200\n",
      "[CV 5/5; 5/20] END max_features=None, min_samples_leaf=1, min_samples_split=5, n_estimators=200;, score=(train=1.000, test=0.692) total time= 2.9min\n",
      "[CV 1/5; 6/20] START max_features=None, min_samples_leaf=1, min_samples_split=2, n_estimators=100\n",
      "[CV 1/5; 6/20] END max_features=None, min_samples_leaf=1, min_samples_split=2, n_estimators=100;, score=(train=1.000, test=0.574) total time= 1.4min\n",
      "[CV 2/5; 6/20] START max_features=None, min_samples_leaf=1, min_samples_split=2, n_estimators=100\n",
      "[CV 2/5; 6/20] END max_features=None, min_samples_leaf=1, min_samples_split=2, n_estimators=100;, score=(train=1.000, test=0.606) total time= 1.5min\n",
      "[CV 3/5; 6/20] START max_features=None, min_samples_leaf=1, min_samples_split=2, n_estimators=100\n",
      "[CV 3/5; 6/20] END max_features=None, min_samples_leaf=1, min_samples_split=2, n_estimators=100;, score=(train=1.000, test=0.558) total time= 1.4min\n",
      "[CV 4/5; 6/20] START max_features=None, min_samples_leaf=1, min_samples_split=2, n_estimators=100\n",
      "[CV 4/5; 6/20] END max_features=None, min_samples_leaf=1, min_samples_split=2, n_estimators=100;, score=(train=1.000, test=0.615) total time= 1.4min\n",
      "[CV 5/5; 6/20] START max_features=None, min_samples_leaf=1, min_samples_split=2, n_estimators=100\n",
      "[CV 5/5; 6/20] END max_features=None, min_samples_leaf=1, min_samples_split=2, n_estimators=100;, score=(train=1.000, test=0.696) total time= 1.5min\n",
      "[CV 1/5; 7/20] START max_features=log2, min_samples_leaf=6, min_samples_split=2, n_estimators=100\n",
      "[CV 1/5; 7/20] END max_features=log2, min_samples_leaf=6, min_samples_split=2, n_estimators=100;, score=(train=0.963, test=0.614) total time=  30.2s\n",
      "[CV 2/5; 7/20] START max_features=log2, min_samples_leaf=6, min_samples_split=2, n_estimators=100\n",
      "[CV 2/5; 7/20] END max_features=log2, min_samples_leaf=6, min_samples_split=2, n_estimators=100;, score=(train=0.963, test=0.451) total time=  30.8s\n",
      "[CV 3/5; 7/20] START max_features=log2, min_samples_leaf=6, min_samples_split=2, n_estimators=100\n",
      "[CV 3/5; 7/20] END max_features=log2, min_samples_leaf=6, min_samples_split=2, n_estimators=100;, score=(train=0.963, test=0.476) total time=  30.5s\n",
      "[CV 4/5; 7/20] START max_features=log2, min_samples_leaf=6, min_samples_split=2, n_estimators=100\n",
      "[CV 4/5; 7/20] END max_features=log2, min_samples_leaf=6, min_samples_split=2, n_estimators=100;, score=(train=0.961, test=0.520) total time=  30.3s\n",
      "[CV 5/5; 7/20] START max_features=log2, min_samples_leaf=6, min_samples_split=2, n_estimators=100\n",
      "[CV 5/5; 7/20] END max_features=log2, min_samples_leaf=6, min_samples_split=2, n_estimators=100;, score=(train=0.957, test=0.597) total time=  30.9s\n",
      "[CV 1/5; 8/20] START max_features=sqrt, min_samples_leaf=4, min_samples_split=3, n_estimators=100\n",
      "[CV 1/5; 8/20] END max_features=sqrt, min_samples_leaf=4, min_samples_split=3, n_estimators=100;, score=(train=0.978, test=0.613) total time=  32.0s\n",
      "[CV 2/5; 8/20] START max_features=sqrt, min_samples_leaf=4, min_samples_split=3, n_estimators=100\n",
      "[CV 2/5; 8/20] END max_features=sqrt, min_samples_leaf=4, min_samples_split=3, n_estimators=100;, score=(train=0.977, test=0.463) total time=  32.9s\n",
      "[CV 3/5; 8/20] START max_features=sqrt, min_samples_leaf=4, min_samples_split=3, n_estimators=100\n",
      "[CV 3/5; 8/20] END max_features=sqrt, min_samples_leaf=4, min_samples_split=3, n_estimators=100;, score=(train=0.977, test=0.478) total time=  31.8s\n",
      "[CV 4/5; 8/20] START max_features=sqrt, min_samples_leaf=4, min_samples_split=3, n_estimators=100\n",
      "[CV 4/5; 8/20] END max_features=sqrt, min_samples_leaf=4, min_samples_split=3, n_estimators=100;, score=(train=0.976, test=0.520) total time=  32.7s\n",
      "[CV 5/5; 8/20] START max_features=sqrt, min_samples_leaf=4, min_samples_split=3, n_estimators=100\n",
      "[CV 5/5; 8/20] END max_features=sqrt, min_samples_leaf=4, min_samples_split=3, n_estimators=100;, score=(train=0.973, test=0.605) total time=  33.8s\n",
      "[CV 1/5; 9/20] START max_features=auto, min_samples_leaf=1, min_samples_split=3, n_estimators=200\n",
      "[CV 1/5; 9/20] END max_features=auto, min_samples_leaf=1, min_samples_split=3, n_estimators=200;, score=(train=1.000, test=0.612) total time= 1.4min\n",
      "[CV 2/5; 9/20] START max_features=auto, min_samples_leaf=1, min_samples_split=3, n_estimators=200\n",
      "[CV 2/5; 9/20] END max_features=auto, min_samples_leaf=1, min_samples_split=3, n_estimators=200;, score=(train=1.000, test=0.569) total time= 1.4min\n",
      "[CV 3/5; 9/20] START max_features=auto, min_samples_leaf=1, min_samples_split=3, n_estimators=200\n",
      "[CV 3/5; 9/20] END max_features=auto, min_samples_leaf=1, min_samples_split=3, n_estimators=200;, score=(train=1.000, test=0.538) total time= 1.3min\n",
      "[CV 4/5; 9/20] START max_features=auto, min_samples_leaf=1, min_samples_split=3, n_estimators=200\n",
      "[CV 4/5; 9/20] END max_features=auto, min_samples_leaf=1, min_samples_split=3, n_estimators=200;, score=(train=1.000, test=0.592) total time= 1.3min\n",
      "[CV 5/5; 9/20] START max_features=auto, min_samples_leaf=1, min_samples_split=3, n_estimators=200\n",
      "[CV 5/5; 9/20] END max_features=auto, min_samples_leaf=1, min_samples_split=3, n_estimators=200;, score=(train=1.000, test=0.681) total time= 1.3min\n",
      "[CV 1/5; 10/20] START max_features=log2, min_samples_leaf=2, min_samples_split=7, n_estimators=100\n",
      "[CV 1/5; 10/20] END max_features=log2, min_samples_leaf=2, min_samples_split=7, n_estimators=100;, score=(train=0.993, test=0.612) total time=  34.0s\n",
      "[CV 2/5; 10/20] START max_features=log2, min_samples_leaf=2, min_samples_split=7, n_estimators=100\n",
      "[CV 2/5; 10/20] END max_features=log2, min_samples_leaf=2, min_samples_split=7, n_estimators=100;, score=(train=0.993, test=0.504) total time=  34.9s\n",
      "[CV 3/5; 10/20] START max_features=log2, min_samples_leaf=2, min_samples_split=7, n_estimators=100\n",
      "[CV 3/5; 10/20] END max_features=log2, min_samples_leaf=2, min_samples_split=7, n_estimators=100;, score=(train=0.993, test=0.489) total time=  34.1s\n",
      "[CV 4/5; 10/20] START max_features=log2, min_samples_leaf=2, min_samples_split=7, n_estimators=100\n",
      "[CV 4/5; 10/20] END max_features=log2, min_samples_leaf=2, min_samples_split=7, n_estimators=100;, score=(train=0.992, test=0.540) total time=  34.7s\n",
      "[CV 5/5; 10/20] START max_features=log2, min_samples_leaf=2, min_samples_split=7, n_estimators=100\n",
      "[CV 5/5; 10/20] END max_features=log2, min_samples_leaf=2, min_samples_split=7, n_estimators=100;, score=(train=0.992, test=0.631) total time=  34.1s\n",
      "[CV 1/5; 11/20] START max_features=None, min_samples_leaf=1, min_samples_split=9, n_estimators=50\n",
      "[CV 1/5; 11/20] END max_features=None, min_samples_leaf=1, min_samples_split=9, n_estimators=50;, score=(train=0.998, test=0.575) total time=  39.9s\n",
      "[CV 2/5; 11/20] START max_features=None, min_samples_leaf=1, min_samples_split=9, n_estimators=50\n",
      "[CV 2/5; 11/20] END max_features=None, min_samples_leaf=1, min_samples_split=9, n_estimators=50;, score=(train=0.998, test=0.582) total time=  41.7s\n",
      "[CV 3/5; 11/20] START max_features=None, min_samples_leaf=1, min_samples_split=9, n_estimators=50\n",
      "[CV 3/5; 11/20] END max_features=None, min_samples_leaf=1, min_samples_split=9, n_estimators=50;, score=(train=0.998, test=0.531) total time=  42.0s\n",
      "[CV 4/5; 11/20] START max_features=None, min_samples_leaf=1, min_samples_split=9, n_estimators=50\n",
      "[CV 4/5; 11/20] END max_features=None, min_samples_leaf=1, min_samples_split=9, n_estimators=50;, score=(train=0.998, test=0.587) total time=  40.3s\n",
      "[CV 5/5; 11/20] START max_features=None, min_samples_leaf=1, min_samples_split=9, n_estimators=50\n",
      "[CV 5/5; 11/20] END max_features=None, min_samples_leaf=1, min_samples_split=9, n_estimators=50;, score=(train=0.997, test=0.675) total time=  41.9s\n",
      "[CV 1/5; 12/20] START max_features=auto, min_samples_leaf=6, min_samples_split=9, n_estimators=50\n",
      "[CV 1/5; 12/20] END max_features=auto, min_samples_leaf=6, min_samples_split=9, n_estimators=50;, score=(train=0.962, test=0.612) total time=  15.5s\n",
      "[CV 2/5; 12/20] START max_features=auto, min_samples_leaf=6, min_samples_split=9, n_estimators=50\n",
      "[CV 2/5; 12/20] END max_features=auto, min_samples_leaf=6, min_samples_split=9, n_estimators=50;, score=(train=0.962, test=0.454) total time=  15.8s\n",
      "[CV 3/5; 12/20] START max_features=auto, min_samples_leaf=6, min_samples_split=9, n_estimators=50\n",
      "[CV 3/5; 12/20] END max_features=auto, min_samples_leaf=6, min_samples_split=9, n_estimators=50;, score=(train=0.962, test=0.475) total time=  15.3s\n",
      "[CV 4/5; 12/20] START max_features=auto, min_samples_leaf=6, min_samples_split=9, n_estimators=50\n",
      "[CV 4/5; 12/20] END max_features=auto, min_samples_leaf=6, min_samples_split=9, n_estimators=50;, score=(train=0.960, test=0.517) total time=  15.2s\n",
      "[CV 5/5; 12/20] START max_features=auto, min_samples_leaf=6, min_samples_split=9, n_estimators=50\n",
      "[CV 5/5; 12/20] END max_features=auto, min_samples_leaf=6, min_samples_split=9, n_estimators=50;, score=(train=0.956, test=0.594) total time=  15.4s\n",
      "[CV 1/5; 13/20] START max_features=log2, min_samples_leaf=8, min_samples_split=5, n_estimators=200\n",
      "[CV 1/5; 13/20] END max_features=log2, min_samples_leaf=8, min_samples_split=5, n_estimators=200;, score=(train=0.952, test=0.614) total time=  56.3s\n",
      "[CV 2/5; 13/20] START max_features=log2, min_samples_leaf=8, min_samples_split=5, n_estimators=200\n",
      "[CV 2/5; 13/20] END max_features=log2, min_samples_leaf=8, min_samples_split=5, n_estimators=200;, score=(train=0.952, test=0.449) total time=  58.2s\n",
      "[CV 3/5; 13/20] START max_features=log2, min_samples_leaf=8, min_samples_split=5, n_estimators=200\n",
      "[CV 3/5; 13/20] END max_features=log2, min_samples_leaf=8, min_samples_split=5, n_estimators=200;, score=(train=0.952, test=0.481) total time=  55.9s\n",
      "[CV 4/5; 13/20] START max_features=log2, min_samples_leaf=8, min_samples_split=5, n_estimators=200\n",
      "[CV 4/5; 13/20] END max_features=log2, min_samples_leaf=8, min_samples_split=5, n_estimators=200;, score=(train=0.950, test=0.520) total time=  56.2s\n",
      "[CV 5/5; 13/20] START max_features=log2, min_samples_leaf=8, min_samples_split=5, n_estimators=200\n",
      "[CV 5/5; 13/20] END max_features=log2, min_samples_leaf=8, min_samples_split=5, n_estimators=200;, score=(train=0.944, test=0.595) total time=  57.8s\n",
      "[CV 1/5; 14/20] START max_features=auto, min_samples_leaf=6, min_samples_split=2, n_estimators=50\n",
      "[CV 1/5; 14/20] END max_features=auto, min_samples_leaf=6, min_samples_split=2, n_estimators=50;, score=(train=0.962, test=0.612) total time=  14.9s\n",
      "[CV 2/5; 14/20] START max_features=auto, min_samples_leaf=6, min_samples_split=2, n_estimators=50\n",
      "[CV 2/5; 14/20] END max_features=auto, min_samples_leaf=6, min_samples_split=2, n_estimators=50;, score=(train=0.962, test=0.454) total time=  15.6s\n",
      "[CV 3/5; 14/20] START max_features=auto, min_samples_leaf=6, min_samples_split=2, n_estimators=50\n",
      "[CV 3/5; 14/20] END max_features=auto, min_samples_leaf=6, min_samples_split=2, n_estimators=50;, score=(train=0.962, test=0.475) total time=  15.1s\n",
      "[CV 4/5; 14/20] START max_features=auto, min_samples_leaf=6, min_samples_split=2, n_estimators=50\n",
      "[CV 4/5; 14/20] END max_features=auto, min_samples_leaf=6, min_samples_split=2, n_estimators=50;, score=(train=0.960, test=0.517) total time=  15.0s\n",
      "[CV 5/5; 14/20] START max_features=auto, min_samples_leaf=6, min_samples_split=2, n_estimators=50\n",
      "[CV 5/5; 14/20] END max_features=auto, min_samples_leaf=6, min_samples_split=2, n_estimators=50;, score=(train=0.956, test=0.594) total time=  16.0s\n",
      "[CV 1/5; 15/20] START max_features=log2, min_samples_leaf=4, min_samples_split=2, n_estimators=200\n",
      "[CV 1/5; 15/20] END max_features=log2, min_samples_leaf=4, min_samples_split=2, n_estimators=200;, score=(train=0.978, test=0.615) total time= 1.2min\n",
      "[CV 2/5; 15/20] START max_features=log2, min_samples_leaf=4, min_samples_split=2, n_estimators=200\n",
      "[CV 2/5; 15/20] END max_features=log2, min_samples_leaf=4, min_samples_split=2, n_estimators=200;, score=(train=0.978, test=0.463) total time= 1.2min\n",
      "[CV 3/5; 15/20] START max_features=log2, min_samples_leaf=4, min_samples_split=2, n_estimators=200\n",
      "[CV 3/5; 15/20] END max_features=log2, min_samples_leaf=4, min_samples_split=2, n_estimators=200;, score=(train=0.977, test=0.480) total time= 1.3min\n",
      "[CV 4/5; 15/20] START max_features=log2, min_samples_leaf=4, min_samples_split=2, n_estimators=200\n",
      "[CV 4/5; 15/20] END max_features=log2, min_samples_leaf=4, min_samples_split=2, n_estimators=200;, score=(train=0.976, test=0.520) total time= 1.1min\n",
      "[CV 5/5; 15/20] START max_features=log2, min_samples_leaf=4, min_samples_split=2, n_estimators=200\n",
      "[CV 5/5; 15/20] END max_features=log2, min_samples_leaf=4, min_samples_split=2, n_estimators=200;, score=(train=0.973, test=0.608) total time= 1.1min\n",
      "[CV 1/5; 16/20] START max_features=log2, min_samples_leaf=8, min_samples_split=7, n_estimators=200\n",
      "[CV 1/5; 16/20] END max_features=log2, min_samples_leaf=8, min_samples_split=7, n_estimators=200;, score=(train=0.952, test=0.614) total time=  59.1s\n",
      "[CV 2/5; 16/20] START max_features=log2, min_samples_leaf=8, min_samples_split=7, n_estimators=200\n",
      "[CV 2/5; 16/20] END max_features=log2, min_samples_leaf=8, min_samples_split=7, n_estimators=200;, score=(train=0.952, test=0.449) total time= 1.0min\n",
      "[CV 3/5; 16/20] START max_features=log2, min_samples_leaf=8, min_samples_split=7, n_estimators=200\n",
      "[CV 3/5; 16/20] END max_features=log2, min_samples_leaf=8, min_samples_split=7, n_estimators=200;, score=(train=0.952, test=0.481) total time=  59.5s\n",
      "[CV 4/5; 16/20] START max_features=log2, min_samples_leaf=8, min_samples_split=7, n_estimators=200\n",
      "[CV 4/5; 16/20] END max_features=log2, min_samples_leaf=8, min_samples_split=7, n_estimators=200;, score=(train=0.950, test=0.520) total time=  59.1s\n",
      "[CV 5/5; 16/20] START max_features=log2, min_samples_leaf=8, min_samples_split=7, n_estimators=200\n",
      "[CV 5/5; 16/20] END max_features=log2, min_samples_leaf=8, min_samples_split=7, n_estimators=200;, score=(train=0.944, test=0.595) total time=  59.7s\n",
      "[CV 1/5; 17/20] START max_features=None, min_samples_leaf=8, min_samples_split=3, n_estimators=100\n",
      "[CV 1/5; 17/20] END max_features=None, min_samples_leaf=8, min_samples_split=3, n_estimators=100;, score=(train=0.981, test=0.595) total time= 1.4min\n",
      "[CV 2/5; 17/20] START max_features=None, min_samples_leaf=8, min_samples_split=3, n_estimators=100\n",
      "[CV 2/5; 17/20] END max_features=None, min_samples_leaf=8, min_samples_split=3, n_estimators=100;, score=(train=0.981, test=0.442) total time= 1.4min\n",
      "[CV 3/5; 17/20] START max_features=None, min_samples_leaf=8, min_samples_split=3, n_estimators=100\n",
      "[CV 3/5; 17/20] END max_features=None, min_samples_leaf=8, min_samples_split=3, n_estimators=100;, score=(train=0.981, test=0.446) total time= 1.3min\n",
      "[CV 4/5; 17/20] START max_features=None, min_samples_leaf=8, min_samples_split=3, n_estimators=100\n",
      "[CV 4/5; 17/20] END max_features=None, min_samples_leaf=8, min_samples_split=3, n_estimators=100;, score=(train=0.981, test=0.502) total time= 1.4min\n",
      "[CV 5/5; 17/20] START max_features=None, min_samples_leaf=8, min_samples_split=3, n_estimators=100\n",
      "[CV 5/5; 17/20] END max_features=None, min_samples_leaf=8, min_samples_split=3, n_estimators=100;, score=(train=0.979, test=0.585) total time= 1.4min\n",
      "[CV 1/5; 18/20] START max_features=log2, min_samples_leaf=8, min_samples_split=2, n_estimators=100\n",
      "[CV 1/5; 18/20] END max_features=log2, min_samples_leaf=8, min_samples_split=2, n_estimators=100;, score=(train=0.952, test=0.611) total time=  34.2s\n",
      "[CV 2/5; 18/20] START max_features=log2, min_samples_leaf=8, min_samples_split=2, n_estimators=100\n",
      "[CV 2/5; 18/20] END max_features=log2, min_samples_leaf=8, min_samples_split=2, n_estimators=100;, score=(train=0.952, test=0.448) total time=  31.4s\n",
      "[CV 3/5; 18/20] START max_features=log2, min_samples_leaf=8, min_samples_split=2, n_estimators=100\n",
      "[CV 3/5; 18/20] END max_features=log2, min_samples_leaf=8, min_samples_split=2, n_estimators=100;, score=(train=0.952, test=0.481) total time=  31.0s\n",
      "[CV 4/5; 18/20] START max_features=log2, min_samples_leaf=8, min_samples_split=2, n_estimators=100\n",
      "[CV 4/5; 18/20] END max_features=log2, min_samples_leaf=8, min_samples_split=2, n_estimators=100;, score=(train=0.949, test=0.519) total time=  30.6s\n",
      "[CV 5/5; 18/20] START max_features=log2, min_samples_leaf=8, min_samples_split=2, n_estimators=100\n",
      "[CV 5/5; 18/20] END max_features=log2, min_samples_leaf=8, min_samples_split=2, n_estimators=100;, score=(train=0.943, test=0.590) total time=  31.7s\n",
      "[CV 1/5; 19/20] START max_features=sqrt, min_samples_leaf=8, min_samples_split=9, n_estimators=100\n",
      "[CV 1/5; 19/20] END max_features=sqrt, min_samples_leaf=8, min_samples_split=9, n_estimators=100;, score=(train=0.952, test=0.611) total time=  30.8s\n",
      "[CV 2/5; 19/20] START max_features=sqrt, min_samples_leaf=8, min_samples_split=9, n_estimators=100\n",
      "[CV 2/5; 19/20] END max_features=sqrt, min_samples_leaf=8, min_samples_split=9, n_estimators=100;, score=(train=0.952, test=0.448) total time=  32.4s\n",
      "[CV 3/5; 19/20] START max_features=sqrt, min_samples_leaf=8, min_samples_split=9, n_estimators=100\n",
      "[CV 3/5; 19/20] END max_features=sqrt, min_samples_leaf=8, min_samples_split=9, n_estimators=100;, score=(train=0.952, test=0.481) total time=  30.8s\n",
      "[CV 4/5; 19/20] START max_features=sqrt, min_samples_leaf=8, min_samples_split=9, n_estimators=100\n",
      "[CV 4/5; 19/20] END max_features=sqrt, min_samples_leaf=8, min_samples_split=9, n_estimators=100;, score=(train=0.949, test=0.519) total time=  29.9s\n",
      "[CV 5/5; 19/20] START max_features=sqrt, min_samples_leaf=8, min_samples_split=9, n_estimators=100\n",
      "[CV 5/5; 19/20] END max_features=sqrt, min_samples_leaf=8, min_samples_split=9, n_estimators=100;, score=(train=0.943, test=0.590) total time=  31.3s\n",
      "[CV 1/5; 20/20] START max_features=log2, min_samples_leaf=2, min_samples_split=2, n_estimators=50\n",
      "[CV 1/5; 20/20] END max_features=log2, min_samples_leaf=2, min_samples_split=2, n_estimators=50;, score=(train=0.997, test=0.610) total time=  18.3s\n",
      "[CV 2/5; 20/20] START max_features=log2, min_samples_leaf=2, min_samples_split=2, n_estimators=50\n",
      "[CV 2/5; 20/20] END max_features=log2, min_samples_leaf=2, min_samples_split=2, n_estimators=50;, score=(train=0.996, test=0.514) total time=  19.2s\n",
      "[CV 3/5; 20/20] START max_features=log2, min_samples_leaf=2, min_samples_split=2, n_estimators=50\n",
      "[CV 3/5; 20/20] END max_features=log2, min_samples_leaf=2, min_samples_split=2, n_estimators=50;, score=(train=0.996, test=0.492) total time=  18.4s\n",
      "[CV 4/5; 20/20] START max_features=log2, min_samples_leaf=2, min_samples_split=2, n_estimators=50\n",
      "[CV 4/5; 20/20] END max_features=log2, min_samples_leaf=2, min_samples_split=2, n_estimators=50;, score=(train=0.997, test=0.542) total time=  18.6s\n",
      "[CV 5/5; 20/20] START max_features=log2, min_samples_leaf=2, min_samples_split=2, n_estimators=50\n",
      "[CV 5/5; 20/20] END max_features=log2, min_samples_leaf=2, min_samples_split=2, n_estimators=50;, score=(train=0.996, test=0.638) total time=  19.3s\n"
     ]
    },
    {
     "data": {
      "text/plain": [
       "RandomizedSearchCV(cv=5,\n",
       "                   estimator=ExtraTreesClassifier(n_jobs=-1, random_state=42),\n",
       "                   n_iter=20,\n",
       "                   param_distributions={'max_features': ['auto', 'sqrt', 'log2',\n",
       "                                                         None],\n",
       "                                        'min_samples_leaf': [1, 2, 4, 6, 8],\n",
       "                                        'min_samples_split': [2, 3, 5, 7, 9],\n",
       "                                        'n_estimators': [50, 100, 200]},\n",
       "                   random_state=42, return_train_score=True, scoring='accuracy',\n",
       "                   verbose=10)"
      ]
     },
     "execution_count": 26,
     "metadata": {},
     "output_type": "execute_result"
    }
   ],
   "source": [
    "random_cv.fit(X_final, y_final)"
   ]
  },
  {
   "cell_type": "code",
   "execution_count": null,
   "id": "33471651",
   "metadata": {
    "colab": {
     "base_uri": "https://localhost:8080/"
    },
    "id": "33471651",
    "outputId": "30683adc-d241-418c-e2c2-29d7035fc655"
   },
   "outputs": [
    {
     "data": {
      "text/plain": [
       "ExtraTreesClassifier(max_features=None, n_jobs=-1, random_state=42)"
      ]
     },
     "execution_count": 27,
     "metadata": {},
     "output_type": "execute_result"
    }
   ],
   "source": [
    "random_cv.best_estimator_"
   ]
  },
  {
   "cell_type": "code",
   "execution_count": null,
   "id": "c1bf05fa",
   "metadata": {
    "colab": {
     "base_uri": "https://localhost:8080/"
    },
    "id": "c1bf05fa",
    "outputId": "33ea0091-425f-47e8-c000-66a3ae5f80ca"
   },
   "outputs": [
    {
     "data": {
      "text/plain": [
       "{'max_features': None,\n",
       " 'min_samples_leaf': 1,\n",
       " 'min_samples_split': 2,\n",
       " 'n_estimators': 100}"
      ]
     },
     "execution_count": 28,
     "metadata": {},
     "output_type": "execute_result"
    }
   ],
   "source": [
    "random_cv.best_params_"
   ]
  },
  {
   "cell_type": "markdown",
   "id": "1fa6dd52",
   "metadata": {},
   "source": [
    "#### So the best hyperparameters for ExtraTreesClassifier seems to be:\n",
    "##### max_features = None, which means all the features; default (100) number of estimators."
   ]
  },
  {
   "cell_type": "code",
   "execution_count": null,
   "id": "2aa90cd3",
   "metadata": {
    "colab": {
     "base_uri": "https://localhost:8080/"
    },
    "id": "2aa90cd3",
    "outputId": "8f9216e7-5e73-4e53-f891-1f34a12e9004"
   },
   "outputs": [
    {
     "data": {
      "text/plain": [
       "ExtraTreesClassifier(max_features=None)"
      ]
     },
     "execution_count": 29,
     "metadata": {},
     "output_type": "execute_result"
    }
   ],
   "source": [
    "# Fitting the ExtraTrees model with the above mentioned best hyperparameters to the previously split train data\n",
    "et_best = ExtraTreesClassifier(max_features=None, min_samples_leaf=1, min_samples_split=2, n_estimators=100)\n",
    "\n",
    "et_best.fit(X_train_final, y_train_final)"
   ]
  },
  {
   "cell_type": "code",
   "execution_count": null,
   "id": "rh9ArTKJ0-2i",
   "metadata": {
    "colab": {
     "base_uri": "https://localhost:8080/",
     "height": 627
    },
    "id": "rh9ArTKJ0-2i",
    "outputId": "11301c70-d36f-4507-ad85-669e8f4333bb"
   },
   "outputs": [
    {
     "data": {
      "image/png": "[encoded data removed]",
      "text/plain": [
       "<Figure size 864x720 with 2 Axes>"
      ]
     },
     "metadata": {
      "needs_background": "light"
     },
     "output_type": "display_data"
    }
   ],
   "source": [
    "# checking with Confusion martix to determine each forest cover type predicting accuracy\n",
    "y_pred_final = et_best.predict(X_test_final)\n",
    "\n",
    "plt.figure(figsize=(12, 10))\n",
    "cm = confusion_matrix(y_test_final, y_pred_final)\n",
    "cm = cm.astype('float') / cm.sum(axis=1)[:, np.newaxis]\n",
    "ax = sns.heatmap(cm, annot=True, cmap='seismic')\n",
    "ax.set_title(\"Confusion matrix between true and predicted labels\")\n",
    "ax.set_xlabel(\"Predicted labels\")\n",
    "ax.set_ylabel(\"Actual labels\")\n",
    "\n",
    "plt.show()"
   ]
  },
  {
   "cell_type": "code",
   "execution_count": null,
   "id": "LCckjjpy2IAp",
   "metadata": {
    "colab": {
     "base_uri": "https://localhost:8080/"
    },
    "id": "LCckjjpy2IAp",
    "outputId": "df0868c6-2901-442d-c94f-44345f7a3c30"
   },
   "outputs": [
    {
     "name": "stdout",
     "output_type": "stream",
     "text": [
      "              precision    recall  f1-score   support\n",
      "\n",
      "           0       0.97      0.97      0.97     42012\n",
      "           1       0.98      0.98      0.98     56022\n",
      "           2       0.96      0.97      0.96      7143\n",
      "           3       0.89      0.85      0.87       531\n",
      "           4       0.92      0.89      0.91      1887\n",
      "           5       0.95      0.93      0.94      3472\n",
      "           6       0.97      0.97      0.97      3927\n",
      "\n",
      "    accuracy                           0.97    114994\n",
      "   macro avg       0.95      0.94      0.94    114994\n",
      "weighted avg       0.97      0.97      0.97    114994\n",
      "\n"
     ]
    }
   ],
   "source": [
    "# Checking the classification report\n",
    "print(classification_report(y_test_final, y_pred_final))"
   ]
  },
  {
   "cell_type": "code",
   "execution_count": null,
   "id": "f_vLSLUj2TwB",
   "metadata": {
    "colab": {
     "base_uri": "https://localhost:8080/"
    },
    "id": "f_vLSLUj2TwB",
    "outputId": "659f4b00-590c-4cfe-862c-f0f0aa89eaab"
   },
   "outputs": [
    {
     "name": "stdout",
     "output_type": "stream",
     "text": [
      "0.9715463415482547\n"
     ]
    }
   ],
   "source": [
    "# lets print the overall accuracy\n",
    "print(fit_evaluate_model(ExtraTreesClassifier(max_features=None, min_samples_leaf=1, min_samples_split=2, n_estimators=100, random_state=42, n_jobs=-1), X_train_final, X_test_final, y_train_final, y_test_final))"
   ]
  },
  {
   "cell_type": "markdown",
   "id": "e03baf23",
   "metadata": {
    "id": "MQM9EvYZtgQB"
   },
   "source": [
    "### Conclusion:\n",
    "#### The Extra Trees model gave a pretty good result in predicting the forest cover type based on the selected features. There are some interrelated features but Decision Trees are quite robust to correlation.\n",
    "#### According to the reports above and analysis of the data, Spruce/Fir and Lodgepole Pine are abundant in the areas and also easy to predict with the datapoints. The cover types Cottonwood Willow and Aspen are rare in the areas compared to the other types, especially the Cottonwood Willow which only seems to grow in the cache la poudre wilderness area and so the prediction of this type of cover is weak compared to the others. The other three types of cover types grows normally across."
   ]
  },
  {
   "cell_type": "code",
   "execution_count": null,
   "id": "54d3cd49",
   "metadata": {},
   "outputs": [],
   "source": []
  }
 ],
 "metadata": {
  "colab": {
   "collapsed_sections": [],
   "name": "modelling.ipynb",
   "provenance": []
  },
  "kernelspec": {
   "display_name": "Python 3 (ipykernel)",
   "language": "python",
   "name": "python3"
  },
  "language_info": {
   "codemirror_mode": {
    "name": "ipython",
    "version": 3
   },
   "file_extension": ".py",
   "mimetype": "text/x-python",
   "name": "python",
   "nbconvert_exporter": "python",
   "pygments_lexer": "ipython3",
   "version": "3.9.12"
  }
 },
 "nbformat": 4,
 "nbformat_minor": 5
}
